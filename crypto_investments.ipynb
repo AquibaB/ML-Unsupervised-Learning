{
 "cells": [
  {
   "cell_type": "markdown",
   "metadata": {},
   "source": [
    "# Module 10 Application\n",
    "\n",
    "## Challenge: Crypto Clustering\n",
    "\n",
    "In this Challenge, you’ll combine your financial Python programming skills with the new unsupervised learning skills that you acquired in this module.\n",
    "\n",
    "The CSV file provided for this challenge contains price change data of cryptocurrencies in different periods.\n",
    "\n",
    "The steps for this challenge are broken out into the following sections:\n",
    "\n",
    "* Import the Data (provided in the starter code)\n",
    "* Prepare the Data (provided in the starter code)\n",
    "* Find the Best Value for `k` Using the Original Data\n",
    "* Cluster Cryptocurrencies with K-means Using the Original Data\n",
    "* Optimize Clusters with Principal Component Analysis\n",
    "* Find the Best Value for `k` Using the PCA Data\n",
    "* Cluster the Cryptocurrencies with K-means Using the PCA Data\n",
    "* Visualize and Compare the Results"
   ]
  },
  {
   "cell_type": "markdown",
   "metadata": {},
   "source": [
    "### Import the Data\n",
    "\n",
    "This section imports the data into a new DataFrame. It follows these steps:\n",
    "\n",
    "1. Read  the “crypto_market_data.csv” file from the Resources folder into a DataFrame, and use `index_col=\"coin_id\"` to set the cryptocurrency name as the index. Review the DataFrame.\n",
    "\n",
    "2. Generate the summary statistics, and use HvPlot to visualize your data to observe what your DataFrame contains.\n",
    "\n",
    "\n",
    "> **Rewind:** The [Pandas`describe()`function](https://pandas.pydata.org/pandas-docs/stable/reference/api/pandas.DataFrame.describe.html) generates summary statistics for a DataFrame. "
   ]
  },
  {
   "cell_type": "code",
   "execution_count": 46,
   "metadata": {},
   "outputs": [],
   "source": [
    "# Import required libraries and dependencies\n",
    "import pandas as pd\n",
    "import hvplot.pandas\n",
    "from path import Path\n",
    "from sklearn.cluster import KMeans\n",
    "from sklearn.decomposition import PCA\n",
    "from sklearn.preprocessing import StandardScaler"
   ]
  },
  {
   "cell_type": "code",
   "execution_count": 47,
   "metadata": {},
   "outputs": [
    {
     "data": {
      "text/html": "<div>\n<style scoped>\n    .dataframe tbody tr th:only-of-type {\n        vertical-align: middle;\n    }\n\n    .dataframe tbody tr th {\n        vertical-align: top;\n    }\n\n    .dataframe thead th {\n        text-align: right;\n    }\n</style>\n<table border=\"1\" class=\"dataframe\">\n  <thead>\n    <tr style=\"text-align: right;\">\n      <th></th>\n      <th>price_change_percentage_24h</th>\n      <th>price_change_percentage_7d</th>\n      <th>price_change_percentage_14d</th>\n      <th>price_change_percentage_30d</th>\n      <th>price_change_percentage_60d</th>\n      <th>price_change_percentage_200d</th>\n      <th>price_change_percentage_1y</th>\n    </tr>\n    <tr>\n      <th>coin_id</th>\n      <th></th>\n      <th></th>\n      <th></th>\n      <th></th>\n      <th></th>\n      <th></th>\n      <th></th>\n    </tr>\n  </thead>\n  <tbody>\n    <tr>\n      <th>bitcoin</th>\n      <td>1.08388</td>\n      <td>7.60278</td>\n      <td>6.57509</td>\n      <td>7.67258</td>\n      <td>-3.25185</td>\n      <td>83.51840</td>\n      <td>37.51761</td>\n    </tr>\n    <tr>\n      <th>ethereum</th>\n      <td>0.22392</td>\n      <td>10.38134</td>\n      <td>4.80849</td>\n      <td>0.13169</td>\n      <td>-12.88890</td>\n      <td>186.77418</td>\n      <td>101.96023</td>\n    </tr>\n    <tr>\n      <th>tether</th>\n      <td>-0.21173</td>\n      <td>0.04935</td>\n      <td>0.00640</td>\n      <td>-0.04237</td>\n      <td>0.28037</td>\n      <td>-0.00542</td>\n      <td>0.01954</td>\n    </tr>\n    <tr>\n      <th>ripple</th>\n      <td>-0.37819</td>\n      <td>-0.60926</td>\n      <td>2.24984</td>\n      <td>0.23455</td>\n      <td>-17.55245</td>\n      <td>39.53888</td>\n      <td>-16.60193</td>\n    </tr>\n    <tr>\n      <th>bitcoin-cash</th>\n      <td>2.90585</td>\n      <td>17.09717</td>\n      <td>14.75334</td>\n      <td>15.74903</td>\n      <td>-13.71793</td>\n      <td>21.66042</td>\n      <td>14.49384</td>\n    </tr>\n    <tr>\n      <th>binancecoin</th>\n      <td>2.10423</td>\n      <td>12.85511</td>\n      <td>6.80688</td>\n      <td>0.05865</td>\n      <td>36.33486</td>\n      <td>155.61937</td>\n      <td>69.69195</td>\n    </tr>\n    <tr>\n      <th>chainlink</th>\n      <td>-0.23935</td>\n      <td>20.69459</td>\n      <td>9.30098</td>\n      <td>-11.21747</td>\n      <td>-43.69522</td>\n      <td>403.22917</td>\n      <td>325.13186</td>\n    </tr>\n    <tr>\n      <th>cardano</th>\n      <td>0.00322</td>\n      <td>13.99302</td>\n      <td>5.55476</td>\n      <td>10.10553</td>\n      <td>-22.84776</td>\n      <td>264.51418</td>\n      <td>156.09756</td>\n    </tr>\n    <tr>\n      <th>litecoin</th>\n      <td>-0.06341</td>\n      <td>6.60221</td>\n      <td>7.28931</td>\n      <td>1.21662</td>\n      <td>-17.23960</td>\n      <td>27.49919</td>\n      <td>-12.66408</td>\n    </tr>\n    <tr>\n      <th>bitcoin-cash-sv</th>\n      <td>0.92530</td>\n      <td>3.29641</td>\n      <td>-1.86656</td>\n      <td>2.88926</td>\n      <td>-24.87434</td>\n      <td>7.42562</td>\n      <td>93.73082</td>\n    </tr>\n  </tbody>\n</table>\n</div>",
      "text/plain": "                 price_change_percentage_24h  price_change_percentage_7d  \\\ncoin_id                                                                    \nbitcoin                              1.08388                     7.60278   \nethereum                             0.22392                    10.38134   \ntether                              -0.21173                     0.04935   \nripple                              -0.37819                    -0.60926   \nbitcoin-cash                         2.90585                    17.09717   \nbinancecoin                          2.10423                    12.85511   \nchainlink                           -0.23935                    20.69459   \ncardano                              0.00322                    13.99302   \nlitecoin                            -0.06341                     6.60221   \nbitcoin-cash-sv                      0.92530                     3.29641   \n\n                 price_change_percentage_14d  price_change_percentage_30d  \\\ncoin_id                                                                     \nbitcoin                              6.57509                      7.67258   \nethereum                             4.80849                      0.13169   \ntether                               0.00640                     -0.04237   \nripple                               2.24984                      0.23455   \nbitcoin-cash                        14.75334                     15.74903   \nbinancecoin                          6.80688                      0.05865   \nchainlink                            9.30098                    -11.21747   \ncardano                              5.55476                     10.10553   \nlitecoin                             7.28931                      1.21662   \nbitcoin-cash-sv                     -1.86656                      2.88926   \n\n                 price_change_percentage_60d  price_change_percentage_200d  \\\ncoin_id                                                                      \nbitcoin                             -3.25185                      83.51840   \nethereum                           -12.88890                     186.77418   \ntether                               0.28037                      -0.00542   \nripple                             -17.55245                      39.53888   \nbitcoin-cash                       -13.71793                      21.66042   \nbinancecoin                         36.33486                     155.61937   \nchainlink                          -43.69522                     403.22917   \ncardano                            -22.84776                     264.51418   \nlitecoin                           -17.23960                      27.49919   \nbitcoin-cash-sv                    -24.87434                       7.42562   \n\n                 price_change_percentage_1y  \ncoin_id                                      \nbitcoin                            37.51761  \nethereum                          101.96023  \ntether                              0.01954  \nripple                            -16.60193  \nbitcoin-cash                       14.49384  \nbinancecoin                        69.69195  \nchainlink                         325.13186  \ncardano                           156.09756  \nlitecoin                          -12.66408  \nbitcoin-cash-sv                    93.73082  "
     },
     "execution_count": 47,
     "metadata": {},
     "output_type": "execute_result"
    }
   ],
   "source": [
    "# Load the data into a Pandas DataFrame\n",
    "df_market_data = pd.read_csv(\n",
    "    Path(\"Resources/crypto_market_data.csv\"),\n",
    "    index_col=\"coin_id\")\n",
    "\n",
    "# Display sample data\n",
    "df_market_data.head(10)"
   ]
  },
  {
   "cell_type": "code",
   "execution_count": 48,
   "metadata": {},
   "outputs": [
    {
     "data": {
      "text/html": "<div>\n<style scoped>\n    .dataframe tbody tr th:only-of-type {\n        vertical-align: middle;\n    }\n\n    .dataframe tbody tr th {\n        vertical-align: top;\n    }\n\n    .dataframe thead th {\n        text-align: right;\n    }\n</style>\n<table border=\"1\" class=\"dataframe\">\n  <thead>\n    <tr style=\"text-align: right;\">\n      <th></th>\n      <th>price_change_percentage_24h</th>\n      <th>price_change_percentage_7d</th>\n      <th>price_change_percentage_14d</th>\n      <th>price_change_percentage_30d</th>\n      <th>price_change_percentage_60d</th>\n      <th>price_change_percentage_200d</th>\n      <th>price_change_percentage_1y</th>\n    </tr>\n  </thead>\n  <tbody>\n    <tr>\n      <th>count</th>\n      <td>41.000000</td>\n      <td>41.000000</td>\n      <td>41.000000</td>\n      <td>41.000000</td>\n      <td>41.000000</td>\n      <td>41.000000</td>\n      <td>41.000000</td>\n    </tr>\n    <tr>\n      <th>mean</th>\n      <td>-0.269686</td>\n      <td>4.497147</td>\n      <td>0.185787</td>\n      <td>1.545693</td>\n      <td>-0.094119</td>\n      <td>236.537432</td>\n      <td>347.667956</td>\n    </tr>\n    <tr>\n      <th>std</th>\n      <td>2.694793</td>\n      <td>6.375218</td>\n      <td>8.376939</td>\n      <td>26.344218</td>\n      <td>47.365803</td>\n      <td>435.225304</td>\n      <td>1247.842884</td>\n    </tr>\n    <tr>\n      <th>min</th>\n      <td>-13.527860</td>\n      <td>-6.094560</td>\n      <td>-18.158900</td>\n      <td>-34.705480</td>\n      <td>-44.822480</td>\n      <td>-0.392100</td>\n      <td>-17.567530</td>\n    </tr>\n    <tr>\n      <th>25%</th>\n      <td>-0.608970</td>\n      <td>0.047260</td>\n      <td>-5.026620</td>\n      <td>-10.438470</td>\n      <td>-25.907990</td>\n      <td>21.660420</td>\n      <td>0.406170</td>\n    </tr>\n    <tr>\n      <th>50%</th>\n      <td>-0.063410</td>\n      <td>3.296410</td>\n      <td>0.109740</td>\n      <td>-0.042370</td>\n      <td>-7.544550</td>\n      <td>83.905200</td>\n      <td>69.691950</td>\n    </tr>\n    <tr>\n      <th>75%</th>\n      <td>0.612090</td>\n      <td>7.602780</td>\n      <td>5.510740</td>\n      <td>4.578130</td>\n      <td>0.657260</td>\n      <td>216.177610</td>\n      <td>168.372510</td>\n    </tr>\n    <tr>\n      <th>max</th>\n      <td>4.840330</td>\n      <td>20.694590</td>\n      <td>24.239190</td>\n      <td>140.795700</td>\n      <td>223.064370</td>\n      <td>2227.927820</td>\n      <td>7852.089700</td>\n    </tr>\n  </tbody>\n</table>\n</div>",
      "text/plain": "       price_change_percentage_24h  price_change_percentage_7d  \\\ncount                    41.000000                   41.000000   \nmean                     -0.269686                    4.497147   \nstd                       2.694793                    6.375218   \nmin                     -13.527860                   -6.094560   \n25%                      -0.608970                    0.047260   \n50%                      -0.063410                    3.296410   \n75%                       0.612090                    7.602780   \nmax                       4.840330                   20.694590   \n\n       price_change_percentage_14d  price_change_percentage_30d  \\\ncount                    41.000000                    41.000000   \nmean                      0.185787                     1.545693   \nstd                       8.376939                    26.344218   \nmin                     -18.158900                   -34.705480   \n25%                      -5.026620                   -10.438470   \n50%                       0.109740                    -0.042370   \n75%                       5.510740                     4.578130   \nmax                      24.239190                   140.795700   \n\n       price_change_percentage_60d  price_change_percentage_200d  \\\ncount                    41.000000                     41.000000   \nmean                     -0.094119                    236.537432   \nstd                      47.365803                    435.225304   \nmin                     -44.822480                     -0.392100   \n25%                     -25.907990                     21.660420   \n50%                      -7.544550                     83.905200   \n75%                       0.657260                    216.177610   \nmax                     223.064370                   2227.927820   \n\n       price_change_percentage_1y  \ncount                   41.000000  \nmean                   347.667956  \nstd                   1247.842884  \nmin                    -17.567530  \n25%                      0.406170  \n50%                     69.691950  \n75%                    168.372510  \nmax                   7852.089700  "
     },
     "execution_count": 48,
     "metadata": {},
     "output_type": "execute_result"
    }
   ],
   "source": [
    "# Generate summary statistics\n",
    "df_market_data.describe()"
   ]
  },
  {
   "cell_type": "code",
   "execution_count": 49,
   "metadata": {},
   "outputs": [
    {
     "data": {},
     "metadata": {},
     "output_type": "display_data"
    },
    {
     "data": {
      "application/vnd.holoviews_exec.v0+json": "",
      "text/html": "<div id='2198'>\n\n\n\n\n\n  <div class=\"bk-root\" id=\"e793c83d-c39f-42db-81c4-0397e4428581\" data-root-id=\"2198\"></div>\n</div>\n<script type=\"application/javascript\">(function(root) {\n  function embed_document(root) {\n    var docs_json = {\"f3c73ab0-f0cf-4c73-866f-519d70d58839\":{\"defs\":[{\"extends\":null,\"module\":null,\"name\":\"ReactiveHTML1\",\"overrides\":[],\"properties\":[]},{\"extends\":null,\"module\":null,\"name\":\"FlexBox1\",\"overrides\":[],\"properties\":[{\"default\":\"flex-start\",\"kind\":null,\"name\":\"align_content\"},{\"default\":\"flex-start\",\"kind\":null,\"name\":\"align_items\"},{\"default\":\"row\",\"kind\":null,\"name\":\"flex_direction\"},{\"default\":\"wrap\",\"kind\":null,\"name\":\"flex_wrap\"},{\"default\":\"flex-start\",\"kind\":null,\"name\":\"justify_content\"}]},{\"extends\":null,\"module\":null,\"name\":\"TemplateActions1\",\"overrides\":[],\"properties\":[{\"default\":0,\"kind\":null,\"name\":\"open_modal\"},{\"default\":0,\"kind\":null,\"name\":\"close_modal\"}]},{\"extends\":null,\"module\":null,\"name\":\"MaterialTemplateActions1\",\"overrides\":[],\"properties\":[{\"default\":0,\"kind\":null,\"name\":\"open_modal\"},{\"default\":0,\"kind\":null,\"name\":\"close_modal\"}]}],\"roots\":{\"references\":[{\"attributes\":{\"data\":{\"Variable\":[\"price_change_percentage_200d\",\"price_change_percentage_200d\",\"price_change_percentage_200d\",\"price_change_percentage_200d\",\"price_change_percentage_200d\",\"price_change_percentage_200d\",\"price_change_percentage_200d\",\"price_change_percentage_200d\",\"price_change_percentage_200d\",\"price_change_percentage_200d\",\"price_change_percentage_200d\",\"price_change_percentage_200d\",\"price_change_percentage_200d\",\"price_change_percentage_200d\",\"price_change_percentage_200d\",\"price_change_percentage_200d\",\"price_change_percentage_200d\",\"price_change_percentage_200d\",\"price_change_percentage_200d\",\"price_change_percentage_200d\",\"price_change_percentage_200d\",\"price_change_percentage_200d\",\"price_change_percentage_200d\",\"price_change_percentage_200d\",\"price_change_percentage_200d\",\"price_change_percentage_200d\",\"price_change_percentage_200d\",\"price_change_percentage_200d\",\"price_change_percentage_200d\",\"price_change_percentage_200d\",\"price_change_percentage_200d\",\"price_change_percentage_200d\",\"price_change_percentage_200d\",\"price_change_percentage_200d\",\"price_change_percentage_200d\",\"price_change_percentage_200d\",\"price_change_percentage_200d\",\"price_change_percentage_200d\",\"price_change_percentage_200d\",\"price_change_percentage_200d\",\"price_change_percentage_200d\"],\"coin_id\":[\"bitcoin\",\"ethereum\",\"tether\",\"ripple\",\"bitcoin-cash\",\"binancecoin\",\"chainlink\",\"cardano\",\"litecoin\",\"bitcoin-cash-sv\",\"crypto-com-chain\",\"usd-coin\",\"eos\",\"monero\",\"tron\",\"tezos\",\"okb\",\"stellar\",\"cosmos\",\"cdai\",\"neo\",\"wrapped-bitcoin\",\"leo-token\",\"huobi-token\",\"nem\",\"binance-usd\",\"iota\",\"vechain\",\"zcash\",\"theta-token\",\"dash\",\"ethereum-classic\",\"ethlend\",\"maker\",\"havven\",\"omisego\",\"celsius-degree-token\",\"ontology\",\"ftx-token\",\"true-usd\",\"digibyte\"],\"value\":{\"__ndarray__\":\"xY8xdy3hVED0piIVxlhnQBe86CtIM3a/9zsUBfrEQ0DTn/1IEak1QPTDCOHRc2NAl3MprqozeUAexM4UOohwQIB9dOrKfztAFhiyutWzHUCN7iB2plZsQIQqNXugFcS/ZHWr56QPMkALe9rhrzBlQH+8V61MnGBA5nlwd9a2RUARHm0csfpDQC+Lic3HJ1VAkj8YeO4/Z0AOvjCZKhjZv2vUQzS61GNAtRX7y+75VEC5GW7A52cwQAPso1NXHkVAKa4q+64Fa0A7NgLxun65P+TaUDHOwVdAyM1wAz7bcEAFwHgGDaNeQH3Qs1k1lYtAOUVHcvnvGEANGvonuMgkQCYZOQvbZ6FAGD4ipkSiVED5MeauZXeDQHi0ccQaSoJAC170FcTYmEB1PGagMmJLQC2yne+nvkxAndfYJaq3tr9R9wFIbSl+QA==\",\"dtype\":\"float64\",\"order\":\"little\",\"shape\":[41]}},\"selected\":{\"id\":\"2366\"},\"selection_policy\":{\"id\":\"2391\"}},\"id\":\"2365\",\"type\":\"ColumnDataSource\"},{\"attributes\":{\"axis\":{\"id\":\"2221\"},\"dimension\":1,\"grid_line_color\":null,\"ticker\":null},\"id\":\"2224\",\"type\":\"Grid\"},{\"attributes\":{\"line_alpha\":0.2,\"line_color\":\"#6d904f\",\"line_width\":2,\"x\":{\"field\":\"coin_id\"},\"y\":{\"field\":\"value\"}},\"id\":\"2316\",\"type\":\"Line\"},{\"attributes\":{\"callback\":null,\"renderers\":[{\"id\":\"2250\"},{\"id\":\"2271\"},{\"id\":\"2293\"},{\"id\":\"2317\"},{\"id\":\"2343\"},{\"id\":\"2371\"},{\"id\":\"2401\"}],\"tags\":[\"hv_created\"],\"tooltips\":[[\"Variable\",\"@{Variable}\"],[\"coin_id\",\"@{coin_id}\"],[\"value\",\"@{value}\"]]},\"id\":\"2202\",\"type\":\"HoverTool\"},{\"attributes\":{},\"id\":\"2260\",\"type\":\"UnionRenderers\"},{\"attributes\":{},\"id\":\"2214\",\"type\":\"CategoricalScale\"},{\"attributes\":{\"axis_label\":\"coin_id\",\"formatter\":{\"id\":\"2240\"},\"major_label_orientation\":1.5707963267948966,\"major_label_policy\":{\"id\":\"2238\"},\"ticker\":{\"id\":\"2219\"}},\"id\":\"2218\",\"type\":\"CategoricalAxis\"},{\"attributes\":{\"source\":{\"id\":\"2337\"}},\"id\":\"2344\",\"type\":\"CDSView\"},{\"attributes\":{\"click_policy\":\"mute\",\"items\":[{\"id\":\"2263\"},{\"id\":\"2285\"},{\"id\":\"2309\"},{\"id\":\"2335\"},{\"id\":\"2363\"},{\"id\":\"2393\"},{\"id\":\"2425\"}],\"location\":[0,0],\"title\":\"Variable\"},\"id\":\"2262\",\"type\":\"Legend\"},{\"attributes\":{\"line_alpha\":0.1,\"line_color\":\"#6d904f\",\"line_width\":2,\"x\":{\"field\":\"coin_id\"},\"y\":{\"field\":\"value\"}},\"id\":\"2315\",\"type\":\"Line\"},{\"attributes\":{\"line_color\":\"#9467bd\",\"line_width\":2,\"x\":{\"field\":\"coin_id\"},\"y\":{\"field\":\"value\"}},\"id\":\"2398\",\"type\":\"Line\"},{\"attributes\":{\"source\":{\"id\":\"2395\"}},\"id\":\"2402\",\"type\":\"CDSView\"},{\"attributes\":{},\"id\":\"2219\",\"type\":\"CategoricalTicker\"},{\"attributes\":{\"label\":{\"value\":\"price_change_percentage_24h\"},\"renderers\":[{\"id\":\"2250\"}]},\"id\":\"2263\",\"type\":\"LegendItem\"},{\"attributes\":{\"source\":{\"id\":\"2244\"}},\"id\":\"2251\",\"type\":\"CDSView\"},{\"attributes\":{\"source\":{\"id\":\"2311\"}},\"id\":\"2318\",\"type\":\"CDSView\"},{\"attributes\":{\"data_source\":{\"id\":\"2311\"},\"glyph\":{\"id\":\"2314\"},\"hover_glyph\":null,\"muted_glyph\":{\"id\":\"2316\"},\"nonselection_glyph\":{\"id\":\"2315\"},\"selection_glyph\":{\"id\":\"2336\"},\"view\":{\"id\":\"2318\"}},\"id\":\"2317\",\"type\":\"GlyphRenderer\"},{\"attributes\":{\"data_source\":{\"id\":\"2395\"},\"glyph\":{\"id\":\"2398\"},\"hover_glyph\":null,\"muted_glyph\":{\"id\":\"2400\"},\"nonselection_glyph\":{\"id\":\"2399\"},\"selection_glyph\":{\"id\":\"2426\"},\"view\":{\"id\":\"2402\"}},\"id\":\"2401\",\"type\":\"GlyphRenderer\"},{\"attributes\":{\"line_color\":\"#30a2da\",\"line_width\":2,\"x\":{\"field\":\"coin_id\"},\"y\":{\"field\":\"value\"}},\"id\":\"2264\",\"type\":\"Line\"},{\"attributes\":{\"line_alpha\":0.2,\"line_color\":\"#9467bd\",\"line_width\":2,\"x\":{\"field\":\"coin_id\"},\"y\":{\"field\":\"value\"}},\"id\":\"2400\",\"type\":\"Line\"},{\"attributes\":{},\"id\":\"2216\",\"type\":\"LinearScale\"},{\"attributes\":{\"label\":{\"value\":\"price_change_percentage_30d\"},\"renderers\":[{\"id\":\"2317\"}]},\"id\":\"2335\",\"type\":\"LegendItem\"},{\"attributes\":{\"source\":{\"id\":\"2265\"}},\"id\":\"2272\",\"type\":\"CDSView\"},{\"attributes\":{\"text_color\":\"black\",\"text_font_size\":\"12pt\"},\"id\":\"2210\",\"type\":\"Title\"},{\"attributes\":{\"line_color\":\"#9467bd\",\"line_width\":2,\"x\":{\"field\":\"coin_id\"},\"y\":{\"field\":\"value\"}},\"id\":\"2426\",\"type\":\"Line\"},{\"attributes\":{\"data\":{\"Variable\":[\"price_change_percentage_60d\",\"price_change_percentage_60d\",\"price_change_percentage_60d\",\"price_change_percentage_60d\",\"price_change_percentage_60d\",\"price_change_percentage_60d\",\"price_change_percentage_60d\",\"price_change_percentage_60d\",\"price_change_percentage_60d\",\"price_change_percentage_60d\",\"price_change_percentage_60d\",\"price_change_percentage_60d\",\"price_change_percentage_60d\",\"price_change_percentage_60d\",\"price_change_percentage_60d\",\"price_change_percentage_60d\",\"price_change_percentage_60d\",\"price_change_percentage_60d\",\"price_change_percentage_60d\",\"price_change_percentage_60d\",\"price_change_percentage_60d\",\"price_change_percentage_60d\",\"price_change_percentage_60d\",\"price_change_percentage_60d\",\"price_change_percentage_60d\",\"price_change_percentage_60d\",\"price_change_percentage_60d\",\"price_change_percentage_60d\",\"price_change_percentage_60d\",\"price_change_percentage_60d\",\"price_change_percentage_60d\",\"price_change_percentage_60d\",\"price_change_percentage_60d\",\"price_change_percentage_60d\",\"price_change_percentage_60d\",\"price_change_percentage_60d\",\"price_change_percentage_60d\",\"price_change_percentage_60d\",\"price_change_percentage_60d\",\"price_change_percentage_60d\",\"price_change_percentage_60d\"],\"coin_id\":[\"bitcoin\",\"ethereum\",\"tether\",\"ripple\",\"bitcoin-cash\",\"binancecoin\",\"chainlink\",\"cardano\",\"litecoin\",\"bitcoin-cash-sv\",\"crypto-com-chain\",\"usd-coin\",\"eos\",\"monero\",\"tron\",\"tezos\",\"okb\",\"stellar\",\"cosmos\",\"cdai\",\"neo\",\"wrapped-bitcoin\",\"leo-token\",\"huobi-token\",\"nem\",\"binance-usd\",\"iota\",\"vechain\",\"zcash\",\"theta-token\",\"dash\",\"ethereum-classic\",\"ethlend\",\"maker\",\"havven\",\"omisego\",\"celsius-degree-token\",\"ontology\",\"ftx-token\",\"true-usd\",\"digibyte\"],\"value\":{\"__ndarray__\":\"FvvL7skDCsAs1JrmHccpwKjjMQOV8dE/2qz6XG2NMcBzol2FlG8rwIleRrHcKkJAN8MN+PzYRcBi26LMBtk2wCEf9GxWPTHAq5UJv9TfOMBg5dAi23kwwDygbMoV3qU/l631RUIrPsDNzMzMzNxEQJm7lpAPGhZAms5OBkdpRsBKe4MvTKYGwEsfuqC+zT7APL1SliHOHMC4AZ8fRgjlP9L7xteeCStAFqQZi6azDMCvJeSDni0ewDeOWItPQQvAXvQVpBm3VEDaOGItPgW4PwpLPKBsQkHAaw4QzNHPRcAJM23/yoo0wBmQvd79AVRAfa62Yn85OsBVGFsIcug5wLCsNCkFHQFA529CIQKeMsA0uoPYmbZDwPKwUGua0VNA/pqsUQ/ia0Ao8iTpmllAwFuxv+yenBdAmrFoOjsZ0D8s1JrmHRc/wA==\",\"dtype\":\"float64\",\"order\":\"little\",\"shape\":[41]}},\"selected\":{\"id\":\"2338\"},\"selection_policy\":{\"id\":\"2361\"}},\"id\":\"2337\",\"type\":\"ColumnDataSource\"},{\"attributes\":{},\"id\":\"2396\",\"type\":\"Selection\"},{\"attributes\":{\"axis\":{\"id\":\"2218\"},\"grid_line_color\":null,\"ticker\":null},\"id\":\"2220\",\"type\":\"Grid\"},{\"attributes\":{},\"id\":\"2333\",\"type\":\"UnionRenderers\"},{\"attributes\":{\"line_alpha\":0.1,\"line_color\":\"#9467bd\",\"line_width\":2,\"x\":{\"field\":\"coin_id\"},\"y\":{\"field\":\"value\"}},\"id\":\"2399\",\"type\":\"Line\"},{\"attributes\":{},\"id\":\"2222\",\"type\":\"BasicTicker\"},{\"attributes\":{\"line_alpha\":0.2,\"line_color\":\"#fc4f30\",\"line_width\":2,\"x\":{\"field\":\"coin_id\"},\"y\":{\"field\":\"value\"}},\"id\":\"2270\",\"type\":\"Line\"},{\"attributes\":{},\"id\":\"2423\",\"type\":\"UnionRenderers\"},{\"attributes\":{\"children\":[{\"id\":\"2199\"},{\"id\":\"2209\"},{\"id\":\"2625\"}],\"margin\":[0,0,0,0],\"name\":\"Row04463\",\"tags\":[\"embedded\"]},\"id\":\"2198\",\"type\":\"Row\"},{\"attributes\":{\"axis_label\":\"\",\"formatter\":{\"id\":\"2241\"},\"major_label_policy\":{\"id\":\"2242\"},\"ticker\":{\"id\":\"2222\"}},\"id\":\"2221\",\"type\":\"LinearAxis\"},{\"attributes\":{\"data_source\":{\"id\":\"2265\"},\"glyph\":{\"id\":\"2268\"},\"hover_glyph\":null,\"muted_glyph\":{\"id\":\"2270\"},\"nonselection_glyph\":{\"id\":\"2269\"},\"selection_glyph\":{\"id\":\"2286\"},\"view\":{\"id\":\"2272\"}},\"id\":\"2271\",\"type\":\"GlyphRenderer\"},{\"attributes\":{\"label\":{\"value\":\"price_change_percentage_1y\"},\"renderers\":[{\"id\":\"2401\"}]},\"id\":\"2425\",\"type\":\"LegendItem\"},{\"attributes\":{\"margin\":[5,5,5,5],\"name\":\"HSpacer04468\",\"sizing_mode\":\"stretch_width\"},\"id\":\"2625\",\"type\":\"Spacer\"},{\"attributes\":{\"line_color\":\"#8b8b8b\",\"line_width\":2,\"x\":{\"field\":\"coin_id\"},\"y\":{\"field\":\"value\"}},\"id\":\"2340\",\"type\":\"Line\"},{\"attributes\":{\"line_color\":\"#fc4f30\",\"line_width\":2,\"x\":{\"field\":\"coin_id\"},\"y\":{\"field\":\"value\"}},\"id\":\"2268\",\"type\":\"Line\"},{\"attributes\":{\"label\":{\"value\":\"price_change_percentage_200d\"},\"renderers\":[{\"id\":\"2371\"}]},\"id\":\"2393\",\"type\":\"LegendItem\"},{\"attributes\":{\"data_source\":{\"id\":\"2337\"},\"glyph\":{\"id\":\"2340\"},\"hover_glyph\":null,\"muted_glyph\":{\"id\":\"2342\"},\"nonselection_glyph\":{\"id\":\"2341\"},\"selection_glyph\":{\"id\":\"2364\"},\"view\":{\"id\":\"2344\"}},\"id\":\"2343\",\"type\":\"GlyphRenderer\"},{\"attributes\":{\"margin\":[5,5,5,5],\"name\":\"HSpacer04467\",\"sizing_mode\":\"stretch_width\"},\"id\":\"2199\",\"type\":\"Spacer\"},{\"attributes\":{\"factors\":[\"bitcoin\",\"ethereum\",\"tether\",\"ripple\",\"bitcoin-cash\",\"binancecoin\",\"chainlink\",\"cardano\",\"litecoin\",\"bitcoin-cash-sv\",\"crypto-com-chain\",\"usd-coin\",\"eos\",\"monero\",\"tron\",\"tezos\",\"okb\",\"stellar\",\"cosmos\",\"cdai\",\"neo\",\"wrapped-bitcoin\",\"leo-token\",\"huobi-token\",\"nem\",\"binance-usd\",\"iota\",\"vechain\",\"zcash\",\"theta-token\",\"dash\",\"ethereum-classic\",\"ethlend\",\"maker\",\"havven\",\"omisego\",\"celsius-degree-token\",\"ontology\",\"ftx-token\",\"true-usd\",\"digibyte\"],\"tags\":[[[\"coin_id\",\"coin_id\",null]]]},\"id\":\"2200\",\"type\":\"FactorRange\"},{\"attributes\":{},\"id\":\"2266\",\"type\":\"Selection\"},{\"attributes\":{\"data_source\":{\"id\":\"2244\"},\"glyph\":{\"id\":\"2247\"},\"hover_glyph\":null,\"muted_glyph\":{\"id\":\"2249\"},\"nonselection_glyph\":{\"id\":\"2248\"},\"selection_glyph\":{\"id\":\"2264\"},\"view\":{\"id\":\"2251\"}},\"id\":\"2250\",\"type\":\"GlyphRenderer\"},{\"attributes\":{\"line_alpha\":0.1,\"line_color\":\"#fc4f30\",\"line_width\":2,\"x\":{\"field\":\"coin_id\"},\"y\":{\"field\":\"value\"}},\"id\":\"2269\",\"type\":\"Line\"},{\"attributes\":{\"active_multi\":null,\"tools\":[{\"id\":\"2202\"},{\"id\":\"2225\"},{\"id\":\"2226\"},{\"id\":\"2227\"},{\"id\":\"2228\"},{\"id\":\"2229\"}]},\"id\":\"2231\",\"type\":\"Toolbar\"},{\"attributes\":{\"line_alpha\":0.2,\"line_color\":\"#8b8b8b\",\"line_width\":2,\"x\":{\"field\":\"coin_id\"},\"y\":{\"field\":\"value\"}},\"id\":\"2342\",\"type\":\"Line\"},{\"attributes\":{},\"id\":\"2283\",\"type\":\"UnionRenderers\"},{\"attributes\":{},\"id\":\"2225\",\"type\":\"SaveTool\"},{\"attributes\":{},\"id\":\"2245\",\"type\":\"Selection\"},{\"attributes\":{\"label\":{\"value\":\"price_change_percentage_7d\"},\"renderers\":[{\"id\":\"2271\"}]},\"id\":\"2285\",\"type\":\"LegendItem\"},{\"attributes\":{},\"id\":\"2338\",\"type\":\"Selection\"},{\"attributes\":{\"line_alpha\":0.1,\"line_color\":\"#8b8b8b\",\"line_width\":2,\"x\":{\"field\":\"coin_id\"},\"y\":{\"field\":\"value\"}},\"id\":\"2341\",\"type\":\"Line\"},{\"attributes\":{},\"id\":\"2226\",\"type\":\"PanTool\"},{\"attributes\":{},\"id\":\"2307\",\"type\":\"UnionRenderers\"},{\"attributes\":{},\"id\":\"2227\",\"type\":\"WheelZoomTool\"},{\"attributes\":{},\"id\":\"2288\",\"type\":\"Selection\"},{\"attributes\":{\"label\":{\"value\":\"price_change_percentage_60d\"},\"renderers\":[{\"id\":\"2343\"}]},\"id\":\"2363\",\"type\":\"LegendItem\"},{\"attributes\":{\"overlay\":{\"id\":\"2230\"}},\"id\":\"2228\",\"type\":\"BoxZoomTool\"},{\"attributes\":{\"line_color\":\"#6d904f\",\"line_width\":2,\"x\":{\"field\":\"coin_id\"},\"y\":{\"field\":\"value\"}},\"id\":\"2336\",\"type\":\"Line\"},{\"attributes\":{\"data\":{\"Variable\":[\"price_change_percentage_24h\",\"price_change_percentage_24h\",\"price_change_percentage_24h\",\"price_change_percentage_24h\",\"price_change_percentage_24h\",\"price_change_percentage_24h\",\"price_change_percentage_24h\",\"price_change_percentage_24h\",\"price_change_percentage_24h\",\"price_change_percentage_24h\",\"price_change_percentage_24h\",\"price_change_percentage_24h\",\"price_change_percentage_24h\",\"price_change_percentage_24h\",\"price_change_percentage_24h\",\"price_change_percentage_24h\",\"price_change_percentage_24h\",\"price_change_percentage_24h\",\"price_change_percentage_24h\",\"price_change_percentage_24h\",\"price_change_percentage_24h\",\"price_change_percentage_24h\",\"price_change_percentage_24h\",\"price_change_percentage_24h\",\"price_change_percentage_24h\",\"price_change_percentage_24h\",\"price_change_percentage_24h\",\"price_change_percentage_24h\",\"price_change_percentage_24h\",\"price_change_percentage_24h\",\"price_change_percentage_24h\",\"price_change_percentage_24h\",\"price_change_percentage_24h\",\"price_change_percentage_24h\",\"price_change_percentage_24h\",\"price_change_percentage_24h\",\"price_change_percentage_24h\",\"price_change_percentage_24h\",\"price_change_percentage_24h\",\"price_change_percentage_24h\",\"price_change_percentage_24h\"],\"coin_id\":[\"bitcoin\",\"ethereum\",\"tether\",\"ripple\",\"bitcoin-cash\",\"binancecoin\",\"chainlink\",\"cardano\",\"litecoin\",\"bitcoin-cash-sv\",\"crypto-com-chain\",\"usd-coin\",\"eos\",\"monero\",\"tron\",\"tezos\",\"okb\",\"stellar\",\"cosmos\",\"cdai\",\"neo\",\"wrapped-bitcoin\",\"leo-token\",\"huobi-token\",\"nem\",\"binance-usd\",\"iota\",\"vechain\",\"zcash\",\"theta-token\",\"dash\",\"ethereum-classic\",\"ethlend\",\"maker\",\"havven\",\"omisego\",\"celsius-degree-token\",\"ontology\",\"ftx-token\",\"true-usd\",\"digibyte\"],\"value\":{\"__ndarray__\":\"nZ0MjpJX8T8MzXUaaanMP5mByvj3Gcu/wCZr1EM02L8ep+hILj8HQL0Yyol21QBAwhcmUwWjzr//CS5W1GBqP7JGPUSjO7C/QKTfvg6c7T8urYbEPZbjPzeJQWDl0Ma/1pC4x9KHwj87NgLxun7bP90HILWJk7M/JjYf14aK5b83iUFg5dAFwG3i5H6HIvC/5nlwd9Zu7r9i83FtqBjLP+iHEcKjjd8/M9yAzw+j8T/fGtgqweLAv+RmuAGfH9q/UdobfGEy678D7KNTVz67v8YzaOif4No/teBFX0Ga9D8G2Eenrnzjvx+duvJZPhLAoMN8eQH28L+cxCCwcmjdv667eapDDivAX5hMFYxK479EUaBP5EkQwAZkr3d/XBNA0JuKVBgbBEDqBDQRNrz1vxo09E9wseo/tI6qJoi6r79qMA3DR8QHQA==\",\"dtype\":\"float64\",\"order\":\"little\",\"shape\":[41]}},\"selected\":{\"id\":\"2245\"},\"selection_policy\":{\"id\":\"2260\"}},\"id\":\"2244\",\"type\":\"ColumnDataSource\"},{\"attributes\":{\"line_color\":\"#fc4f30\",\"line_width\":2,\"x\":{\"field\":\"coin_id\"},\"y\":{\"field\":\"value\"}},\"id\":\"2286\",\"type\":\"Line\"},{\"attributes\":{},\"id\":\"2240\",\"type\":\"CategoricalTickFormatter\"},{\"attributes\":{},\"id\":\"2361\",\"type\":\"UnionRenderers\"},{\"attributes\":{\"line_color\":\"#30a2da\",\"line_width\":2,\"x\":{\"field\":\"coin_id\"},\"y\":{\"field\":\"value\"}},\"id\":\"2247\",\"type\":\"Line\"},{\"attributes\":{\"line_color\":\"#8b8b8b\",\"line_width\":2,\"x\":{\"field\":\"coin_id\"},\"y\":{\"field\":\"value\"}},\"id\":\"2364\",\"type\":\"Line\"},{\"attributes\":{},\"id\":\"2229\",\"type\":\"ResetTool\"},{\"attributes\":{\"data_source\":{\"id\":\"2287\"},\"glyph\":{\"id\":\"2290\"},\"hover_glyph\":null,\"muted_glyph\":{\"id\":\"2292\"},\"nonselection_glyph\":{\"id\":\"2291\"},\"selection_glyph\":{\"id\":\"2310\"},\"view\":{\"id\":\"2294\"}},\"id\":\"2293\",\"type\":\"GlyphRenderer\"},{\"attributes\":{\"data_source\":{\"id\":\"2365\"},\"glyph\":{\"id\":\"2368\"},\"hover_glyph\":null,\"muted_glyph\":{\"id\":\"2370\"},\"nonselection_glyph\":{\"id\":\"2369\"},\"selection_glyph\":{\"id\":\"2394\"},\"view\":{\"id\":\"2372\"}},\"id\":\"2371\",\"type\":\"GlyphRenderer\"},{\"attributes\":{\"source\":{\"id\":\"2287\"}},\"id\":\"2294\",\"type\":\"CDSView\"},{\"attributes\":{\"data\":{\"Variable\":[\"price_change_percentage_7d\",\"price_change_percentage_7d\",\"price_change_percentage_7d\",\"price_change_percentage_7d\",\"price_change_percentage_7d\",\"price_change_percentage_7d\",\"price_change_percentage_7d\",\"price_change_percentage_7d\",\"price_change_percentage_7d\",\"price_change_percentage_7d\",\"price_change_percentage_7d\",\"price_change_percentage_7d\",\"price_change_percentage_7d\",\"price_change_percentage_7d\",\"price_change_percentage_7d\",\"price_change_percentage_7d\",\"price_change_percentage_7d\",\"price_change_percentage_7d\",\"price_change_percentage_7d\",\"price_change_percentage_7d\",\"price_change_percentage_7d\",\"price_change_percentage_7d\",\"price_change_percentage_7d\",\"price_change_percentage_7d\",\"price_change_percentage_7d\",\"price_change_percentage_7d\",\"price_change_percentage_7d\",\"price_change_percentage_7d\",\"price_change_percentage_7d\",\"price_change_percentage_7d\",\"price_change_percentage_7d\",\"price_change_percentage_7d\",\"price_change_percentage_7d\",\"price_change_percentage_7d\",\"price_change_percentage_7d\",\"price_change_percentage_7d\",\"price_change_percentage_7d\",\"price_change_percentage_7d\",\"price_change_percentage_7d\",\"price_change_percentage_7d\",\"price_change_percentage_7d\"],\"coin_id\":[\"bitcoin\",\"ethereum\",\"tether\",\"ripple\",\"bitcoin-cash\",\"binancecoin\",\"chainlink\",\"cardano\",\"litecoin\",\"bitcoin-cash-sv\",\"crypto-com-chain\",\"usd-coin\",\"eos\",\"monero\",\"tron\",\"tezos\",\"okb\",\"stellar\",\"cosmos\",\"cdai\",\"neo\",\"wrapped-bitcoin\",\"leo-token\",\"huobi-token\",\"nem\",\"binance-usd\",\"iota\",\"vechain\",\"zcash\",\"theta-token\",\"dash\",\"ethereum-classic\",\"ethlend\",\"maker\",\"havven\",\"omisego\",\"celsius-degree-token\",\"ontology\",\"ftx-token\",\"true-usd\",\"digibyte\"],\"value\":{\"__ndarray__\":\"RbsKKT9pHkAzUBn/PsMkQL99HThnRKk/yVnY0w5/47/+JhQi4BgxQBL3WPrQtSlA7yB2ptCxNEA/jBAebfwrQPFL/bypaBpArKjBNAxfCkByv0NRoK8WwPlJtU/HY76/lPsdigL99L+n6Egu/5EvQE1KQbeX9BBA0m9fB87pIUBlU67wLjcSwKbtX1lpkgBAZwqd19gVMEBcIEHxY8ytP3wnZr0YigNAOh4zUBmfHUD3Hi457pT1vzNQGf8+4/k/kQ96Nqs+6781Y9F0djKoP2dEaW/wRRhAgXhdv2A3/L/8GHPXErIkQP8JLlbUYBjAVU0QdR9gFEDRlnMprmoIQGCrBIvD2RBAAiuHFtlOIECbG9MTllgRQKhXyjLEURtAqn06HjNQ4z+UvDrHgGzzvwltOZfiahxAsD2zJEBNxT8yj/zBwHPlPw==\",\"dtype\":\"float64\",\"order\":\"little\",\"shape\":[41]}},\"selected\":{\"id\":\"2266\"},\"selection_policy\":{\"id\":\"2283\"}},\"id\":\"2265\",\"type\":\"ColumnDataSource\"},{\"attributes\":{},\"id\":\"2366\",\"type\":\"Selection\"},{\"attributes\":{\"line_alpha\":0.1,\"line_color\":\"#e5ae38\",\"line_width\":2,\"x\":{\"field\":\"coin_id\"},\"y\":{\"field\":\"value\"}},\"id\":\"2291\",\"type\":\"Line\"},{\"attributes\":{\"end\":8641.780918,\"reset_end\":8641.780918,\"reset_start\":-834.5136980000001,\"start\":-834.5136980000001,\"tags\":[[[\"value\",\"value\",null]]]},\"id\":\"2201\",\"type\":\"Range1d\"},{\"attributes\":{\"line_color\":\"#6d904f\",\"line_width\":2,\"x\":{\"field\":\"coin_id\"},\"y\":{\"field\":\"value\"}},\"id\":\"2314\",\"type\":\"Line\"},{\"attributes\":{\"line_color\":\"#e5ae38\",\"line_width\":2,\"x\":{\"field\":\"coin_id\"},\"y\":{\"field\":\"value\"}},\"id\":\"2290\",\"type\":\"Line\"},{\"attributes\":{\"source\":{\"id\":\"2365\"}},\"id\":\"2372\",\"type\":\"CDSView\"},{\"attributes\":{\"data\":{\"Variable\":[\"price_change_percentage_1y\",\"price_change_percentage_1y\",\"price_change_percentage_1y\",\"price_change_percentage_1y\",\"price_change_percentage_1y\",\"price_change_percentage_1y\",\"price_change_percentage_1y\",\"price_change_percentage_1y\",\"price_change_percentage_1y\",\"price_change_percentage_1y\",\"price_change_percentage_1y\",\"price_change_percentage_1y\",\"price_change_percentage_1y\",\"price_change_percentage_1y\",\"price_change_percentage_1y\",\"price_change_percentage_1y\",\"price_change_percentage_1y\",\"price_change_percentage_1y\",\"price_change_percentage_1y\",\"price_change_percentage_1y\",\"price_change_percentage_1y\",\"price_change_percentage_1y\",\"price_change_percentage_1y\",\"price_change_percentage_1y\",\"price_change_percentage_1y\",\"price_change_percentage_1y\",\"price_change_percentage_1y\",\"price_change_percentage_1y\",\"price_change_percentage_1y\",\"price_change_percentage_1y\",\"price_change_percentage_1y\",\"price_change_percentage_1y\",\"price_change_percentage_1y\",\"price_change_percentage_1y\",\"price_change_percentage_1y\",\"price_change_percentage_1y\",\"price_change_percentage_1y\",\"price_change_percentage_1y\",\"price_change_percentage_1y\",\"price_change_percentage_1y\",\"price_change_percentage_1y\"],\"coin_id\":[\"bitcoin\",\"ethereum\",\"tether\",\"ripple\",\"bitcoin-cash\",\"binancecoin\",\"chainlink\",\"cardano\",\"litecoin\",\"bitcoin-cash-sv\",\"crypto-com-chain\",\"usd-coin\",\"eos\",\"monero\",\"tron\",\"tezos\",\"okb\",\"stellar\",\"cosmos\",\"cdai\",\"neo\",\"wrapped-bitcoin\",\"leo-token\",\"huobi-token\",\"nem\",\"binance-usd\",\"iota\",\"vechain\",\"zcash\",\"theta-token\",\"dash\",\"ethereum-classic\",\"ethlend\",\"maker\",\"havven\",\"omisego\",\"celsius-degree-token\",\"ontology\",\"ftx-token\",\"true-usd\",\"digibyte\"],\"value\":{\"__ndarray__\":\"kQpjC0HCQkDWqIdodH1ZQN/42jNLApQ/NXugFRiaMMDN6bKY2PwsQOcdp+hIbFFAaTo7GRxSdEC6LCY2H4NjQPnaM0sCVCnA0NA/wcVuV0CQvd798RBzQL4wmSoYlci/t39lpUmRMcDovMYuUaFhQEPKT6p9nk1A6PaSxmiAYUBdUN8yp75hQMzuycNCnStAw7ZFmQ2cVEAHsTOFzmvSvx/0bFZ9aWBAhhvw+WHEQkAN/RNcrAA1QN8Vwf9WkjhAS7A4nPkWaUAVUn5S7dPBPzUk7rH04Q/AIsMq3shbaUBf0hito7hUQPyMCwcC64VAzsKedvirA8Dwoq8gzTgmQHRGlPYWrL5Ayk+qfTpOJUDfiVkvRjaFQEfJq3MMC3RAnFCIgONmn0CsVib8Uk8pwNttF5rrC2VAyXGndLD+2T/ZfFwbKgxnQA==\",\"dtype\":\"float64\",\"order\":\"little\",\"shape\":[41]}},\"selected\":{\"id\":\"2396\"},\"selection_policy\":{\"id\":\"2423\"}},\"id\":\"2395\",\"type\":\"ColumnDataSource\"},{\"attributes\":{\"line_alpha\":0.1,\"line_color\":\"#17becf\",\"line_width\":2,\"x\":{\"field\":\"coin_id\"},\"y\":{\"field\":\"value\"}},\"id\":\"2369\",\"type\":\"Line\"},{\"attributes\":{\"line_alpha\":0.2,\"line_color\":\"#e5ae38\",\"line_width\":2,\"x\":{\"field\":\"coin_id\"},\"y\":{\"field\":\"value\"}},\"id\":\"2292\",\"type\":\"Line\"},{\"attributes\":{},\"id\":\"2241\",\"type\":\"BasicTickFormatter\"},{\"attributes\":{\"line_color\":\"#17becf\",\"line_width\":2,\"x\":{\"field\":\"coin_id\"},\"y\":{\"field\":\"value\"}},\"id\":\"2368\",\"type\":\"Line\"},{\"attributes\":{\"below\":[{\"id\":\"2218\"}],\"center\":[{\"id\":\"2220\"},{\"id\":\"2224\"}],\"height\":400,\"left\":[{\"id\":\"2221\"}],\"margin\":[5,5,5,5],\"min_border_bottom\":10,\"min_border_left\":10,\"min_border_right\":10,\"min_border_top\":10,\"renderers\":[{\"id\":\"2250\"},{\"id\":\"2271\"},{\"id\":\"2293\"},{\"id\":\"2317\"},{\"id\":\"2343\"},{\"id\":\"2371\"},{\"id\":\"2401\"}],\"right\":[{\"id\":\"2262\"}],\"sizing_mode\":\"fixed\",\"title\":{\"id\":\"2210\"},\"toolbar\":{\"id\":\"2231\"},\"width\":800,\"x_range\":{\"id\":\"2200\"},\"x_scale\":{\"id\":\"2214\"},\"y_range\":{\"id\":\"2201\"},\"y_scale\":{\"id\":\"2216\"}},\"id\":\"2209\",\"subtype\":\"Figure\",\"type\":\"Plot\"},{\"attributes\":{\"label\":{\"value\":\"price_change_percentage_14d\"},\"renderers\":[{\"id\":\"2293\"}]},\"id\":\"2309\",\"type\":\"LegendItem\"},{\"attributes\":{\"bottom_units\":\"screen\",\"fill_alpha\":0.5,\"fill_color\":\"lightgrey\",\"left_units\":\"screen\",\"level\":\"overlay\",\"line_alpha\":1.0,\"line_color\":\"black\",\"line_dash\":[4,4],\"line_width\":2,\"right_units\":\"screen\",\"syncable\":false,\"top_units\":\"screen\"},\"id\":\"2230\",\"type\":\"BoxAnnotation\"},{\"attributes\":{\"data\":{\"Variable\":[\"price_change_percentage_14d\",\"price_change_percentage_14d\",\"price_change_percentage_14d\",\"price_change_percentage_14d\",\"price_change_percentage_14d\",\"price_change_percentage_14d\",\"price_change_percentage_14d\",\"price_change_percentage_14d\",\"price_change_percentage_14d\",\"price_change_percentage_14d\",\"price_change_percentage_14d\",\"price_change_percentage_14d\",\"price_change_percentage_14d\",\"price_change_percentage_14d\",\"price_change_percentage_14d\",\"price_change_percentage_14d\",\"price_change_percentage_14d\",\"price_change_percentage_14d\",\"price_change_percentage_14d\",\"price_change_percentage_14d\",\"price_change_percentage_14d\",\"price_change_percentage_14d\",\"price_change_percentage_14d\",\"price_change_percentage_14d\",\"price_change_percentage_14d\",\"price_change_percentage_14d\",\"price_change_percentage_14d\",\"price_change_percentage_14d\",\"price_change_percentage_14d\",\"price_change_percentage_14d\",\"price_change_percentage_14d\",\"price_change_percentage_14d\",\"price_change_percentage_14d\",\"price_change_percentage_14d\",\"price_change_percentage_14d\",\"price_change_percentage_14d\",\"price_change_percentage_14d\",\"price_change_percentage_14d\",\"price_change_percentage_14d\",\"price_change_percentage_14d\",\"price_change_percentage_14d\"],\"coin_id\":[\"bitcoin\",\"ethereum\",\"tether\",\"ripple\",\"bitcoin-cash\",\"binancecoin\",\"chainlink\",\"cardano\",\"litecoin\",\"bitcoin-cash-sv\",\"crypto-com-chain\",\"usd-coin\",\"eos\",\"monero\",\"tron\",\"tezos\",\"okb\",\"stellar\",\"cosmos\",\"cdai\",\"neo\",\"wrapped-bitcoin\",\"leo-token\",\"huobi-token\",\"nem\",\"binance-usd\",\"iota\",\"vechain\",\"zcash\",\"theta-token\",\"dash\",\"ethereum-classic\",\"ethlend\",\"maker\",\"havven\",\"omisego\",\"celsius-degree-token\",\"ontology\",\"ftx-token\",\"true-usd\",\"digibyte\"],\"value\":{\"__ndarray__\":\"zQaZZORMGkB5knTN5DsTQC1DHOviNno/ctwpHaz/AUCLic3HtYEtQJgvL8A+OhtACoDxDBqaIkAOhGQBEzgWQICfceFAKB1AIVnABG7d/b8xsfm4NhQhwGtI3GPpQ3e/pfeNrz0z8j8ao3VUNWkyQBUA4xk0dPY/VIzzN6GQAkCXrfVFQhsUwKpla32RUPG/Qgkzbf8KFkDPg7uzdtvFP8MN+PwwsiPAYFlpUgo6GkB3+GuyRh0cwM2v5gDBHN0/jliLTwEwBUDWrZ6T3jeuP7pOIy2VNw7Am1Wfq60oMsAJM23/yioXQJfK2xFOSxrAQE0tW+uL4D9OucK7XET0v0SLbOf7mSPA/pqsUQ/R978vaYzWUZUqwDtT6LzGbirAvodLjjs9OEByUMJM2x8lwJ30vvG1Z8q/ZCMQr+sXvD+7D0BqE0cdwA==\",\"dtype\":\"float64\",\"order\":\"little\",\"shape\":[41]}},\"selected\":{\"id\":\"2288\"},\"selection_policy\":{\"id\":\"2307\"}},\"id\":\"2287\",\"type\":\"ColumnDataSource\"},{\"attributes\":{\"line_alpha\":0.2,\"line_color\":\"#17becf\",\"line_width\":2,\"x\":{\"field\":\"coin_id\"},\"y\":{\"field\":\"value\"}},\"id\":\"2370\",\"type\":\"Line\"},{\"attributes\":{},\"id\":\"2242\",\"type\":\"AllLabels\"},{\"attributes\":{},\"id\":\"2391\",\"type\":\"UnionRenderers\"},{\"attributes\":{},\"id\":\"2312\",\"type\":\"Selection\"},{\"attributes\":{\"line_color\":\"#e5ae38\",\"line_width\":2,\"x\":{\"field\":\"coin_id\"},\"y\":{\"field\":\"value\"}},\"id\":\"2310\",\"type\":\"Line\"},{\"attributes\":{\"line_alpha\":0.2,\"line_color\":\"#30a2da\",\"line_width\":2,\"x\":{\"field\":\"coin_id\"},\"y\":{\"field\":\"value\"}},\"id\":\"2249\",\"type\":\"Line\"},{\"attributes\":{\"data\":{\"Variable\":[\"price_change_percentage_30d\",\"price_change_percentage_30d\",\"price_change_percentage_30d\",\"price_change_percentage_30d\",\"price_change_percentage_30d\",\"price_change_percentage_30d\",\"price_change_percentage_30d\",\"price_change_percentage_30d\",\"price_change_percentage_30d\",\"price_change_percentage_30d\",\"price_change_percentage_30d\",\"price_change_percentage_30d\",\"price_change_percentage_30d\",\"price_change_percentage_30d\",\"price_change_percentage_30d\",\"price_change_percentage_30d\",\"price_change_percentage_30d\",\"price_change_percentage_30d\",\"price_change_percentage_30d\",\"price_change_percentage_30d\",\"price_change_percentage_30d\",\"price_change_percentage_30d\",\"price_change_percentage_30d\",\"price_change_percentage_30d\",\"price_change_percentage_30d\",\"price_change_percentage_30d\",\"price_change_percentage_30d\",\"price_change_percentage_30d\",\"price_change_percentage_30d\",\"price_change_percentage_30d\",\"price_change_percentage_30d\",\"price_change_percentage_30d\",\"price_change_percentage_30d\",\"price_change_percentage_30d\",\"price_change_percentage_30d\",\"price_change_percentage_30d\",\"price_change_percentage_30d\",\"price_change_percentage_30d\",\"price_change_percentage_30d\",\"price_change_percentage_30d\",\"price_change_percentage_30d\"],\"coin_id\":[\"bitcoin\",\"ethereum\",\"tether\",\"ripple\",\"bitcoin-cash\",\"binancecoin\",\"chainlink\",\"cardano\",\"litecoin\",\"bitcoin-cash-sv\",\"crypto-com-chain\",\"usd-coin\",\"eos\",\"monero\",\"tron\",\"tezos\",\"okb\",\"stellar\",\"cosmos\",\"cdai\",\"neo\",\"wrapped-bitcoin\",\"leo-token\",\"huobi-token\",\"nem\",\"binance-usd\",\"iota\",\"vechain\",\"zcash\",\"theta-token\",\"dash\",\"ethereum-classic\",\"ethlend\",\"maker\",\"havven\",\"omisego\",\"celsius-degree-token\",\"ontology\",\"ftx-token\",\"true-usd\",\"digibyte\"],\"value\":{\"__ndarray__\":\"VMa/z7iwHkAl6ZrJN9vAP/28qUiFsaW/L26jAbwFzj8dcjPcgH8vQPMf0m9fB64/5bhTOlhvJsBnfjUHCDYkQGWNeohGd/M/sCDNWDQdB0Cmft5UpHIxwJgvL8A+OsW/t0WZDTKJEsDeVKTC2HpDQEzD8BExNSnAjWK5pdVALMDjjcwjf+AkwIrIsIo3QiDAjliLTwFQEkAWpBmLpnMBwE3WqIdo9DXAVG8NbJWAHUAnMQisHJoIQGA8g4b+CQrACcTr+gU7DcCPpQ9dUN+SP80Bgjl6nBDA9S1zuixWLMBC7Eyh83odQEku/yH9bj9AtTf4wmQqH8Am/FI/byoHQNjYJaq3/j3A9GxWfa62MECdRloqb9c0wF4R/G8lOyLArK3YX3aZYUC1/SsrTVpBwP/PYb68ICXAFR3J5T+knz+ndLD+z4EqQA==\",\"dtype\":\"float64\",\"order\":\"little\",\"shape\":[41]}},\"selected\":{\"id\":\"2312\"},\"selection_policy\":{\"id\":\"2333\"}},\"id\":\"2311\",\"type\":\"ColumnDataSource\"},{\"attributes\":{\"line_alpha\":0.1,\"line_color\":\"#30a2da\",\"line_width\":2,\"x\":{\"field\":\"coin_id\"},\"y\":{\"field\":\"value\"}},\"id\":\"2248\",\"type\":\"Line\"},{\"attributes\":{\"line_color\":\"#17becf\",\"line_width\":2,\"x\":{\"field\":\"coin_id\"},\"y\":{\"field\":\"value\"}},\"id\":\"2394\",\"type\":\"Line\"},{\"attributes\":{},\"id\":\"2238\",\"type\":\"AllLabels\"}],\"root_ids\":[\"2198\"]},\"title\":\"Bokeh Application\",\"version\":\"2.3.3\"}};\n    var render_items = [{\"docid\":\"f3c73ab0-f0cf-4c73-866f-519d70d58839\",\"root_ids\":[\"2198\"],\"roots\":{\"2198\":\"e793c83d-c39f-42db-81c4-0397e4428581\"}}];\n    root.Bokeh.embed.embed_items_notebook(docs_json, render_items);\n  }\n  if (root.Bokeh !== undefined && root.Bokeh.Panel !== undefined) {\n    embed_document(root);\n  } else {\n    var attempts = 0;\n    var timer = setInterval(function(root) {\n      if (root.Bokeh !== undefined && root.Bokeh.Panel !== undefined) {\n        clearInterval(timer);\n        embed_document(root);\n      } else if (document.readyState == \"complete\") {\n        attempts++;\n        if (attempts > 200) {\n          clearInterval(timer);\n          console.log(\"Bokeh: ERROR: Unable to run BokehJS code because BokehJS library is missing\");\n        }\n      }\n    }, 25, root)\n  }\n})(window);</script>",
      "text/plain": ":NdOverlay   [Variable]\n   :Curve   [coin_id]   (value)"
     },
     "execution_count": 49,
     "metadata": {
      "application/vnd.holoviews_exec.v0+json": {
       "id": "2198"
      }
     },
     "output_type": "execute_result"
    }
   ],
   "source": [
    "# Plot your data to see what's in your DataFrame\n",
    "df_market_data.hvplot.line(\n",
    "    width=800,\n",
    "    height=400,\n",
    "    rot=90\n",
    ")"
   ]
  },
  {
   "cell_type": "markdown",
   "metadata": {},
   "source": [
    "---"
   ]
  },
  {
   "cell_type": "markdown",
   "metadata": {},
   "source": [
    "### Prepare the Data\n",
    "\n",
    "This section prepares the data before running the K-Means algorithm. It follows these steps:\n",
    "\n",
    "1. Use the `StandardScaler` module from scikit-learn to normalize the CSV file data. This will require you to utilize the `fit_transform` function.\n",
    "\n",
    "2. Create a DataFrame that contains the scaled data. Be sure to set the `coin_id` index from the original DataFrame as the index for the new DataFrame. Review the resulting DataFrame.\n"
   ]
  },
  {
   "cell_type": "code",
   "execution_count": 50,
   "metadata": {},
   "outputs": [],
   "source": [
    "# Use the `StandardScaler()` module from scikit-learn to normalize the data from the CSV file\n",
    "scaled_data = StandardScaler().fit_transform(df_market_data)"
   ]
  },
  {
   "cell_type": "code",
   "execution_count": 51,
   "metadata": {},
   "outputs": [
    {
     "data": {
      "text/html": "<div>\n<style scoped>\n    .dataframe tbody tr th:only-of-type {\n        vertical-align: middle;\n    }\n\n    .dataframe tbody tr th {\n        vertical-align: top;\n    }\n\n    .dataframe thead th {\n        text-align: right;\n    }\n</style>\n<table border=\"1\" class=\"dataframe\">\n  <thead>\n    <tr style=\"text-align: right;\">\n      <th></th>\n      <th>price_change_percentage_24h</th>\n      <th>price_change_percentage_7d</th>\n      <th>price_change_percentage_14d</th>\n      <th>price_change_percentage_30d</th>\n      <th>price_change_percentage_60d</th>\n      <th>price_change_percentage_200d</th>\n      <th>price_change_percentage_1y</th>\n    </tr>\n    <tr>\n      <th>coin_id</th>\n      <th></th>\n      <th></th>\n      <th></th>\n      <th></th>\n      <th></th>\n      <th></th>\n      <th></th>\n    </tr>\n  </thead>\n  <tbody>\n    <tr>\n      <th>bitcoin</th>\n      <td>0.508529</td>\n      <td>0.493193</td>\n      <td>0.772200</td>\n      <td>0.235460</td>\n      <td>-0.067495</td>\n      <td>-0.355953</td>\n      <td>-0.251637</td>\n    </tr>\n    <tr>\n      <th>ethereum</th>\n      <td>0.185446</td>\n      <td>0.934445</td>\n      <td>0.558692</td>\n      <td>-0.054341</td>\n      <td>-0.273483</td>\n      <td>-0.115759</td>\n      <td>-0.199352</td>\n    </tr>\n    <tr>\n      <th>tether</th>\n      <td>0.021774</td>\n      <td>-0.706337</td>\n      <td>-0.021680</td>\n      <td>-0.061030</td>\n      <td>0.008005</td>\n      <td>-0.550247</td>\n      <td>-0.282061</td>\n    </tr>\n    <tr>\n      <th>ripple</th>\n      <td>-0.040764</td>\n      <td>-0.810928</td>\n      <td>0.249458</td>\n      <td>-0.050388</td>\n      <td>-0.373164</td>\n      <td>-0.458259</td>\n      <td>-0.295546</td>\n    </tr>\n    <tr>\n      <th>bitcoin-cash</th>\n      <td>1.193036</td>\n      <td>2.000959</td>\n      <td>1.760610</td>\n      <td>0.545842</td>\n      <td>-0.291203</td>\n      <td>-0.499848</td>\n      <td>-0.270317</td>\n    </tr>\n  </tbody>\n</table>\n</div>",
      "text/plain": "              price_change_percentage_24h  price_change_percentage_7d  \\\ncoin_id                                                                 \nbitcoin                          0.508529                    0.493193   \nethereum                         0.185446                    0.934445   \ntether                           0.021774                   -0.706337   \nripple                          -0.040764                   -0.810928   \nbitcoin-cash                     1.193036                    2.000959   \n\n              price_change_percentage_14d  price_change_percentage_30d  \\\ncoin_id                                                                  \nbitcoin                          0.772200                     0.235460   \nethereum                         0.558692                    -0.054341   \ntether                          -0.021680                    -0.061030   \nripple                           0.249458                    -0.050388   \nbitcoin-cash                     1.760610                     0.545842   \n\n              price_change_percentage_60d  price_change_percentage_200d  \\\ncoin_id                                                                   \nbitcoin                         -0.067495                     -0.355953   \nethereum                        -0.273483                     -0.115759   \ntether                           0.008005                     -0.550247   \nripple                          -0.373164                     -0.458259   \nbitcoin-cash                    -0.291203                     -0.499848   \n\n              price_change_percentage_1y  \ncoin_id                                   \nbitcoin                        -0.251637  \nethereum                       -0.199352  \ntether                         -0.282061  \nripple                         -0.295546  \nbitcoin-cash                   -0.270317  "
     },
     "execution_count": 51,
     "metadata": {},
     "output_type": "execute_result"
    }
   ],
   "source": [
    "# Create a DataFrame with the scaled data\n",
    "df_market_data_scaled = pd.DataFrame(\n",
    "    scaled_data,\n",
    "    columns=df_market_data.columns\n",
    ")\n",
    "\n",
    "# Copy the crypto names from the original data\n",
    "df_market_data_scaled[\"coin_id\"] = df_market_data.index\n",
    "\n",
    "# Set the coinid column as index\n",
    "df_market_data_scaled = df_market_data_scaled.set_index(\"coin_id\")\n",
    "\n",
    "# Display sample data\n",
    "df_market_data_scaled.head()"
   ]
  },
  {
   "cell_type": "markdown",
   "metadata": {},
   "source": [
    "---"
   ]
  },
  {
   "cell_type": "markdown",
   "metadata": {},
   "source": [
    "### Find the Best Value for k Using the Original Data\n",
    "\n",
    "In this section, you will use the elbow method to find the best value for `k`.\n",
    "\n",
    "1. Code the elbow method algorithm to find the best value for `k`. Use a range from 1 to 11. \n",
    "\n",
    "2. Plot a line chart with all the inertia values computed with the different values of `k` to visually identify the optimal value for `k`.\n",
    "\n",
    "3. Answer the following question: What is the best value for `k`?"
   ]
  },
  {
   "cell_type": "code",
   "execution_count": 52,
   "metadata": {},
   "outputs": [],
   "source": [
    "# List with the number of k-values to try, range 1-11\n",
    "k = list(range(1,11))"
   ]
  },
  {
   "cell_type": "code",
   "execution_count": 53,
   "metadata": {},
   "outputs": [],
   "source": [
    "# Empy list to store the inertia values\n",
    "inertia = []"
   ]
  },
  {
   "cell_type": "code",
   "execution_count": 54,
   "metadata": {},
   "outputs": [],
   "source": [
    "# Create a for loop to compute the inertia with each possible value of k\n",
    "# Inside the loop:\n",
    "# 1. Create a KMeans model using the loop counter for the n_clusters\n",
    "# 2. Fit the model to the data using `df_market_data_scaled`\n",
    "# 3. Append the model.inertia_ to the inertia list\n",
    "for i in k:\n",
    "    model = KMeans(n_clusters=i, random_state=0)\n",
    "    model.fit(df_market_data_scaled)\n",
    "    inertia.append(model.inertia_)"
   ]
  },
  {
   "cell_type": "code",
   "execution_count": 55,
   "metadata": {},
   "outputs": [],
   "source": [
    "# Create a dictionary with the data to plot the Elbow curve\n",
    "elbow_data = {\n",
    "    'k': k,\n",
    "    'inertia': inertia\n",
    "}\n",
    "\n",
    "# Create a DataFrame with the data to plot the Elbow curve\n",
    "df_elbow = pd.DataFrame(elbow_data)"
   ]
  },
  {
   "cell_type": "code",
   "execution_count": 56,
   "metadata": {},
   "outputs": [
    {
     "data": {},
     "metadata": {},
     "output_type": "display_data"
    },
    {
     "data": {
      "application/vnd.holoviews_exec.v0+json": "",
      "text/html": "<div id='2737'>\n\n\n\n\n\n  <div class=\"bk-root\" id=\"200f9b50-fc93-46c1-9397-82a7eeee6930\" data-root-id=\"2737\"></div>\n</div>\n<script type=\"application/javascript\">(function(root) {\n  function embed_document(root) {\n    var docs_json = {\"ca178af5-a118-4b2b-8e4f-615becdbb3f9\":{\"defs\":[{\"extends\":null,\"module\":null,\"name\":\"ReactiveHTML1\",\"overrides\":[],\"properties\":[]},{\"extends\":null,\"module\":null,\"name\":\"FlexBox1\",\"overrides\":[],\"properties\":[{\"default\":\"flex-start\",\"kind\":null,\"name\":\"align_content\"},{\"default\":\"flex-start\",\"kind\":null,\"name\":\"align_items\"},{\"default\":\"row\",\"kind\":null,\"name\":\"flex_direction\"},{\"default\":\"wrap\",\"kind\":null,\"name\":\"flex_wrap\"},{\"default\":\"flex-start\",\"kind\":null,\"name\":\"justify_content\"}]},{\"extends\":null,\"module\":null,\"name\":\"TemplateActions1\",\"overrides\":[],\"properties\":[{\"default\":0,\"kind\":null,\"name\":\"open_modal\"},{\"default\":0,\"kind\":null,\"name\":\"close_modal\"}]},{\"extends\":null,\"module\":null,\"name\":\"MaterialTemplateActions1\",\"overrides\":[],\"properties\":[{\"default\":0,\"kind\":null,\"name\":\"open_modal\"},{\"default\":0,\"kind\":null,\"name\":\"close_modal\"}]}],\"roots\":{\"references\":[{\"attributes\":{\"active_multi\":null,\"tools\":[{\"id\":\"2741\"},{\"id\":\"2759\"},{\"id\":\"2760\"},{\"id\":\"2761\"},{\"id\":\"2762\"},{\"id\":\"2763\"}]},\"id\":\"2765\",\"type\":\"Toolbar\"},{\"attributes\":{\"line_color\":\"#30a2da\",\"line_width\":2,\"x\":{\"field\":\"k\"},\"y\":{\"field\":\"inertia\"}},\"id\":\"2780\",\"type\":\"Line\"},{\"attributes\":{\"axis_label\":\"inertia\",\"formatter\":{\"id\":\"2787\"},\"major_label_policy\":{\"id\":\"2788\"},\"ticker\":{\"id\":\"2756\"}},\"id\":\"2755\",\"type\":\"LinearAxis\"},{\"attributes\":{},\"id\":\"2747\",\"type\":\"LinearScale\"},{\"attributes\":{\"text\":\"Elbow Curve\",\"text_color\":\"black\",\"text_font_size\":\"12pt\"},\"id\":\"2743\",\"type\":\"Title\"},{\"attributes\":{\"margin\":[5,5,5,5],\"name\":\"HSpacer05583\",\"sizing_mode\":\"stretch_width\"},\"id\":\"2738\",\"type\":\"Spacer\"},{\"attributes\":{},\"id\":\"2773\",\"type\":\"Selection\"},{\"attributes\":{\"line_alpha\":0.2,\"line_color\":\"#30a2da\",\"line_width\":2,\"x\":{\"field\":\"k\"},\"y\":{\"field\":\"inertia\"}},\"id\":\"2777\",\"type\":\"Line\"},{\"attributes\":{},\"id\":\"2759\",\"type\":\"SaveTool\"},{\"attributes\":{},\"id\":\"2783\",\"type\":\"AllLabels\"},{\"attributes\":{\"end\":312.8777100709391,\"reset_end\":312.8777100709391,\"reset_start\":2.3451892196698267,\"start\":2.3451892196698267,\"tags\":[[[\"inertia\",\"inertia\",null]]]},\"id\":\"2740\",\"type\":\"Range1d\"},{\"attributes\":{\"end\":10.0,\"reset_end\":10.0,\"reset_start\":1.0,\"start\":1.0,\"tags\":[[[\"k\",\"k\",null]]]},\"id\":\"2739\",\"type\":\"Range1d\"},{\"attributes\":{},\"id\":\"2761\",\"type\":\"WheelZoomTool\"},{\"attributes\":{},\"id\":\"2782\",\"type\":\"BasicTickFormatter\"},{\"attributes\":{\"axis\":{\"id\":\"2751\"},\"grid_line_color\":null,\"ticker\":null},\"id\":\"2754\",\"type\":\"Grid\"},{\"attributes\":{\"line_alpha\":0.1,\"line_color\":\"#30a2da\",\"line_width\":2,\"x\":{\"field\":\"k\"},\"y\":{\"field\":\"inertia\"}},\"id\":\"2776\",\"type\":\"Line\"},{\"attributes\":{},\"id\":\"2763\",\"type\":\"ResetTool\"},{\"attributes\":{},\"id\":\"2788\",\"type\":\"AllLabels\"},{\"attributes\":{\"ticks\":[1,2,3,4,5,6,7,8,9,10]},\"id\":\"2781\",\"type\":\"FixedTicker\"},{\"attributes\":{\"margin\":[5,5,5,5],\"name\":\"HSpacer05584\",\"sizing_mode\":\"stretch_width\"},\"id\":\"2808\",\"type\":\"Spacer\"},{\"attributes\":{\"line_color\":\"#30a2da\",\"line_width\":2,\"x\":{\"field\":\"k\"},\"y\":{\"field\":\"inertia\"}},\"id\":\"2775\",\"type\":\"Line\"},{\"attributes\":{\"overlay\":{\"id\":\"2764\"}},\"id\":\"2762\",\"type\":\"BoxZoomTool\"},{\"attributes\":{\"axis_label\":\"k\",\"formatter\":{\"id\":\"2782\"},\"major_label_policy\":{\"id\":\"2783\"},\"ticker\":{\"id\":\"2781\"}},\"id\":\"2751\",\"type\":\"LinearAxis\"},{\"attributes\":{\"callback\":null,\"renderers\":[{\"id\":\"2778\"}],\"tags\":[\"hv_created\"],\"tooltips\":[[\"k\",\"@{k}\"],[\"inertia\",\"@{inertia}\"]]},\"id\":\"2741\",\"type\":\"HoverTool\"},{\"attributes\":{\"below\":[{\"id\":\"2751\"}],\"center\":[{\"id\":\"2754\"},{\"id\":\"2758\"}],\"height\":300,\"left\":[{\"id\":\"2755\"}],\"margin\":[5,5,5,5],\"min_border_bottom\":10,\"min_border_left\":10,\"min_border_right\":10,\"min_border_top\":10,\"renderers\":[{\"id\":\"2778\"}],\"sizing_mode\":\"fixed\",\"title\":{\"id\":\"2743\"},\"toolbar\":{\"id\":\"2765\"},\"width\":700,\"x_range\":{\"id\":\"2739\"},\"x_scale\":{\"id\":\"2747\"},\"y_range\":{\"id\":\"2740\"},\"y_scale\":{\"id\":\"2749\"}},\"id\":\"2742\",\"subtype\":\"Figure\",\"type\":\"Plot\"},{\"attributes\":{\"bottom_units\":\"screen\",\"fill_alpha\":0.5,\"fill_color\":\"lightgrey\",\"left_units\":\"screen\",\"level\":\"overlay\",\"line_alpha\":1.0,\"line_color\":\"black\",\"line_dash\":[4,4],\"line_width\":2,\"right_units\":\"screen\",\"syncable\":false,\"top_units\":\"screen\"},\"id\":\"2764\",\"type\":\"BoxAnnotation\"},{\"attributes\":{},\"id\":\"2756\",\"type\":\"BasicTicker\"},{\"attributes\":{},\"id\":\"2760\",\"type\":\"PanTool\"},{\"attributes\":{},\"id\":\"2787\",\"type\":\"BasicTickFormatter\"},{\"attributes\":{\"children\":[{\"id\":\"2738\"},{\"id\":\"2742\"},{\"id\":\"2808\"}],\"margin\":[0,0,0,0],\"name\":\"Row05579\",\"tags\":[\"embedded\"]},\"id\":\"2737\",\"type\":\"Row\"},{\"attributes\":{},\"id\":\"2749\",\"type\":\"LinearScale\"},{\"attributes\":{\"axis\":{\"id\":\"2755\"},\"dimension\":1,\"grid_line_color\":null,\"ticker\":null},\"id\":\"2758\",\"type\":\"Grid\"},{\"attributes\":{\"data\":{\"inertia\":{\"__ndarray__\":\"AAAAAADwcUByhzI6P3poQOGRvNowzF5AGe6ulG/BU0BoEQsuWlNQQOfqC/e6cUpAiSebkxT1RUBt++EeLsJCQMF0IF8cPkBAi3eL7Q85PEA=\",\"dtype\":\"float64\",\"order\":\"little\",\"shape\":[10]},\"k\":[1,2,3,4,5,6,7,8,9,10]},\"selected\":{\"id\":\"2773\"},\"selection_policy\":{\"id\":\"2797\"}},\"id\":\"2772\",\"type\":\"ColumnDataSource\"},{\"attributes\":{\"data_source\":{\"id\":\"2772\"},\"glyph\":{\"id\":\"2775\"},\"hover_glyph\":null,\"muted_glyph\":{\"id\":\"2777\"},\"nonselection_glyph\":{\"id\":\"2776\"},\"selection_glyph\":{\"id\":\"2780\"},\"view\":{\"id\":\"2779\"}},\"id\":\"2778\",\"type\":\"GlyphRenderer\"},{\"attributes\":{},\"id\":\"2797\",\"type\":\"UnionRenderers\"},{\"attributes\":{\"source\":{\"id\":\"2772\"}},\"id\":\"2779\",\"type\":\"CDSView\"}],\"root_ids\":[\"2737\"]},\"title\":\"Bokeh Application\",\"version\":\"2.3.3\"}};\n    var render_items = [{\"docid\":\"ca178af5-a118-4b2b-8e4f-615becdbb3f9\",\"root_ids\":[\"2737\"],\"roots\":{\"2737\":\"200f9b50-fc93-46c1-9397-82a7eeee6930\"}}];\n    root.Bokeh.embed.embed_items_notebook(docs_json, render_items);\n  }\n  if (root.Bokeh !== undefined && root.Bokeh.Panel !== undefined) {\n    embed_document(root);\n  } else {\n    var attempts = 0;\n    var timer = setInterval(function(root) {\n      if (root.Bokeh !== undefined && root.Bokeh.Panel !== undefined) {\n        clearInterval(timer);\n        embed_document(root);\n      } else if (document.readyState == \"complete\") {\n        attempts++;\n        if (attempts > 200) {\n          clearInterval(timer);\n          console.log(\"Bokeh: ERROR: Unable to run BokehJS code because BokehJS library is missing\");\n        }\n      }\n    }, 25, root)\n  }\n})(window);</script>",
      "text/plain": ":Curve   [k]   (inertia)"
     },
     "execution_count": 56,
     "metadata": {
      "application/vnd.holoviews_exec.v0+json": {
       "id": "2737"
      }
     },
     "output_type": "execute_result"
    }
   ],
   "source": [
    "# Plot a line chart with all the inertia values computed with \n",
    "# the different values of k to visually identify the optimal value for k.\n",
    "df_elbow.hvplot.line(x='k', y='inertia', title='Elbow Curve', xticks=k)"
   ]
  },
  {
   "cell_type": "markdown",
   "metadata": {},
   "source": [
    "#### Answer the following question: What is the best value for k?\n",
    "**Question:** What is the best value for `k`?\n",
    "\n",
    "**Answer:** The best value for k is 4 because it is the value after which the curve flattens out the most"
   ]
  },
  {
   "cell_type": "markdown",
   "metadata": {},
   "source": [
    "---"
   ]
  },
  {
   "cell_type": "markdown",
   "metadata": {},
   "source": [
    "### Cluster Cryptocurrencies with K-means Using the Original Data\n",
    "\n",
    "In this section, you will use the K-Means algorithm with the best value for `k` found in the previous section to cluster the cryptocurrencies according to the price changes of cryptocurrencies provided.\n",
    "\n",
    "1. Initialize the K-Means model with four clusters using the best value for `k`. \n",
    "\n",
    "2. Fit the K-Means model using the original data.\n",
    "\n",
    "3. Predict the clusters to group the cryptocurrencies using the original data. View the resulting array of cluster values.\n",
    "\n",
    "4. Add a new column to the DataFrame with the original data to store the predicted clusters.\n",
    "\n",
    "5. Create a scatter plot using hvPlot by setting `x=\"price_change_percentage_24h\"` and `y=\"price_change_percentage_7d\"`. Color the graph points with the labels found using K-Means and add the crypto name in the `hover_cols` parameter to identify the cryptocurrency represented by each data point."
   ]
  },
  {
   "cell_type": "code",
   "execution_count": 78,
   "metadata": {},
   "outputs": [],
   "source": [
    "# Initialize the K-Means model using the best value for k\n",
    "model = KMeans(n_clusters=4)"
   ]
  },
  {
   "cell_type": "code",
   "execution_count": 79,
   "metadata": {},
   "outputs": [
    {
     "data": {
      "text/plain": "KMeans(n_clusters=4)"
     },
     "execution_count": 79,
     "metadata": {},
     "output_type": "execute_result"
    }
   ],
   "source": [
    "# Fit the K-Means model using the scaled data\n",
    "model.fit(df_market_data_scaled)"
   ]
  },
  {
   "cell_type": "code",
   "execution_count": 80,
   "metadata": {},
   "outputs": [
    {
     "name": "stdout",
     "output_type": "stream",
     "text": [
      "[0 0 1 1 0 0 0 0 0 1 1 1 1 0 1 0 1 1 0 1 1 0 1 1 1 1 1 1 0 1 1 1 2 0 1 1 3\n",
      " 1 1 1 1]\n"
     ]
    }
   ],
   "source": [
    "# Predict the clusters to group the cryptocurrencies using the scaled data\n",
    "clusters = model.predict(df_market_data_scaled)\n",
    "\n",
    "# View the resulting array of cluster values.\n",
    "print(clusters)"
   ]
  },
  {
   "cell_type": "code",
   "execution_count": 81,
   "metadata": {},
   "outputs": [
    {
     "data": {
      "text/html": "<div>\n<style scoped>\n    .dataframe tbody tr th:only-of-type {\n        vertical-align: middle;\n    }\n\n    .dataframe tbody tr th {\n        vertical-align: top;\n    }\n\n    .dataframe thead th {\n        text-align: right;\n    }\n</style>\n<table border=\"1\" class=\"dataframe\">\n  <thead>\n    <tr style=\"text-align: right;\">\n      <th></th>\n      <th>price_change_percentage_24h</th>\n      <th>price_change_percentage_7d</th>\n      <th>price_change_percentage_14d</th>\n      <th>price_change_percentage_30d</th>\n      <th>price_change_percentage_60d</th>\n      <th>price_change_percentage_200d</th>\n      <th>price_change_percentage_1y</th>\n      <th>clusters</th>\n    </tr>\n    <tr>\n      <th>coin_id</th>\n      <th></th>\n      <th></th>\n      <th></th>\n      <th></th>\n      <th></th>\n      <th></th>\n      <th></th>\n      <th></th>\n    </tr>\n  </thead>\n  <tbody>\n    <tr>\n      <th>bitcoin</th>\n      <td>0.508529</td>\n      <td>0.493193</td>\n      <td>0.772200</td>\n      <td>0.235460</td>\n      <td>-0.067495</td>\n      <td>-0.355953</td>\n      <td>-0.251637</td>\n      <td>0</td>\n    </tr>\n    <tr>\n      <th>ethereum</th>\n      <td>0.185446</td>\n      <td>0.934445</td>\n      <td>0.558692</td>\n      <td>-0.054341</td>\n      <td>-0.273483</td>\n      <td>-0.115759</td>\n      <td>-0.199352</td>\n      <td>0</td>\n    </tr>\n    <tr>\n      <th>tether</th>\n      <td>0.021774</td>\n      <td>-0.706337</td>\n      <td>-0.021680</td>\n      <td>-0.061030</td>\n      <td>0.008005</td>\n      <td>-0.550247</td>\n      <td>-0.282061</td>\n      <td>1</td>\n    </tr>\n    <tr>\n      <th>ripple</th>\n      <td>-0.040764</td>\n      <td>-0.810928</td>\n      <td>0.249458</td>\n      <td>-0.050388</td>\n      <td>-0.373164</td>\n      <td>-0.458259</td>\n      <td>-0.295546</td>\n      <td>1</td>\n    </tr>\n    <tr>\n      <th>bitcoin-cash</th>\n      <td>1.193036</td>\n      <td>2.000959</td>\n      <td>1.760610</td>\n      <td>0.545842</td>\n      <td>-0.291203</td>\n      <td>-0.499848</td>\n      <td>-0.270317</td>\n      <td>0</td>\n    </tr>\n    <tr>\n      <th>binancecoin</th>\n      <td>0.891871</td>\n      <td>1.327295</td>\n      <td>0.800214</td>\n      <td>-0.057148</td>\n      <td>0.778653</td>\n      <td>-0.188232</td>\n      <td>-0.225533</td>\n      <td>0</td>\n    </tr>\n    <tr>\n      <th>chainlink</th>\n      <td>0.011397</td>\n      <td>2.572251</td>\n      <td>1.101647</td>\n      <td>-0.490495</td>\n      <td>-0.931954</td>\n      <td>0.387759</td>\n      <td>-0.018284</td>\n      <td>0</td>\n    </tr>\n    <tr>\n      <th>cardano</th>\n      <td>0.102530</td>\n      <td>1.508001</td>\n      <td>0.648885</td>\n      <td>0.328959</td>\n      <td>-0.486349</td>\n      <td>0.065080</td>\n      <td>-0.155428</td>\n      <td>0</td>\n    </tr>\n    <tr>\n      <th>litecoin</th>\n      <td>0.077497</td>\n      <td>0.334297</td>\n      <td>0.858520</td>\n      <td>-0.012646</td>\n      <td>-0.366477</td>\n      <td>-0.486266</td>\n      <td>-0.292351</td>\n      <td>0</td>\n    </tr>\n    <tr>\n      <th>bitcoin-cash-sv</th>\n      <td>0.448952</td>\n      <td>-0.190684</td>\n      <td>-0.248043</td>\n      <td>0.051634</td>\n      <td>-0.529666</td>\n      <td>-0.532961</td>\n      <td>-0.206029</td>\n      <td>1</td>\n    </tr>\n    <tr>\n      <th>crypto-com-chain</th>\n      <td>0.331280</td>\n      <td>-1.614844</td>\n      <td>-1.054521</td>\n      <td>-0.729931</td>\n      <td>-0.350155</td>\n      <td>-0.022866</td>\n      <td>-0.034570</td>\n      <td>1</td>\n    </tr>\n    <tr>\n      <th>usd-coin</th>\n      <td>0.034352</td>\n      <td>-0.733026</td>\n      <td>-0.023140</td>\n      <td>-0.065775</td>\n      <td>0.002925</td>\n      <td>-0.550599</td>\n      <td>-0.282232</td>\n      <td>1</td>\n    </tr>\n    <tr>\n      <th>eos</th>\n      <td>0.155710</td>\n      <td>-0.922491</td>\n      <td>0.115024</td>\n      <td>-0.237488</td>\n      <td>-0.642837</td>\n      <td>-0.508220</td>\n      <td>-0.296330</td>\n      <td>1</td>\n    </tr>\n    <tr>\n      <th>monero</th>\n      <td>0.262723</td>\n      <td>1.792602</td>\n      <td>2.202665</td>\n      <td>1.437842</td>\n      <td>0.893865</td>\n      <td>-0.155893</td>\n      <td>-0.167644</td>\n      <td>0</td>\n    </tr>\n    <tr>\n      <th>tron</th>\n      <td>0.130050</td>\n      <td>-0.041018</td>\n      <td>0.147155</td>\n      <td>-0.543776</td>\n      <td>0.120116</td>\n      <td>-0.241118</td>\n      <td>-0.234014</td>\n      <td>1</td>\n    </tr>\n    <tr>\n      <th>tezos</th>\n      <td>-0.151583</td>\n      <td>0.708196</td>\n      <td>0.258012</td>\n      <td>-0.602296</td>\n      <td>-0.956049</td>\n      <td>-0.449211</td>\n      <td>-0.168479</td>\n      <td>0</td>\n    </tr>\n    <tr>\n      <th>okb</th>\n      <td>-0.923203</td>\n      <td>-1.437359</td>\n      <td>-0.629963</td>\n      <td>-0.460558</td>\n      <td>-0.058504</td>\n      <td>-0.457283</td>\n      <td>-0.166900</td>\n      <td>1</td>\n    </tr>\n    <tr>\n      <th>stellar</th>\n      <td>-0.277543</td>\n      <td>-0.385209</td>\n      <td>-0.153243</td>\n      <td>-0.371816</td>\n      <td>-0.656403</td>\n      <td>-0.353387</td>\n      <td>-0.270874</td>\n      <td>1</td>\n    </tr>\n    <tr>\n      <th>cosmos</th>\n      <td>-0.255978</td>\n      <td>1.840274</td>\n      <td>0.643565</td>\n      <td>0.116538</td>\n      <td>-0.151913</td>\n      <td>-0.117565</td>\n      <td>-0.215191</td>\n      <td>0</td>\n    </tr>\n    <tr>\n      <th>cdai</th>\n      <td>0.180851</td>\n      <td>-0.704931</td>\n      <td>-0.001816</td>\n      <td>-0.143237</td>\n      <td>0.016060</td>\n      <td>-0.551146</td>\n      <td>-0.282310</td>\n      <td>1</td>\n    </tr>\n    <tr>\n      <th>neo</th>\n      <td>0.286546</td>\n      <td>-0.326301</td>\n      <td>-1.212670</td>\n      <td>-0.903134</td>\n      <td>0.290970</td>\n      <td>-0.181187</td>\n      <td>-0.175550</td>\n      <td>1</td>\n    </tr>\n    <tr>\n      <th>wrapped-bitcoin</th>\n      <td>0.515453</td>\n      <td>0.461843</td>\n      <td>0.769975</td>\n      <td>0.224045</td>\n      <td>-0.074674</td>\n      <td>-0.355054</td>\n      <td>-0.251623</td>\n      <td>0</td>\n    </tr>\n    <tr>\n      <th>leo-token</th>\n      <td>0.051758</td>\n      <td>-0.928381</td>\n      <td>-0.871918</td>\n      <td>0.058782</td>\n      <td>-0.159250</td>\n      <td>-0.512071</td>\n      <td>-0.265036</td>\n      <td>1</td>\n    </tr>\n    <tr>\n      <th>huobi-token</th>\n      <td>-0.052032</td>\n      <td>-0.457229</td>\n      <td>0.032522</td>\n      <td>-0.184489</td>\n      <td>-0.070809</td>\n      <td>-0.451982</td>\n      <td>-0.262140</td>\n      <td>1</td>\n    </tr>\n    <tr>\n      <th>nem</th>\n      <td>-0.217984</td>\n      <td>-0.849381</td>\n      <td>0.297632</td>\n      <td>-0.199820</td>\n      <td>1.773127</td>\n      <td>-0.047361</td>\n      <td>-0.119226</td>\n      <td>1</td>\n    </tr>\n    <tr>\n      <th>binance-usd</th>\n      <td>0.061339</td>\n      <td>-0.706669</td>\n      <td>-0.015321</td>\n      <td>-0.058694</td>\n      <td>0.004017</td>\n      <td>-0.550003</td>\n      <td>-0.281963</td>\n      <td>1</td>\n    </tr>\n    <tr>\n      <th>iota</th>\n      <td>0.259097</td>\n      <td>0.249508</td>\n      <td>-0.478953</td>\n      <td>-0.218997</td>\n      <td>-0.735815</td>\n      <td>-0.329179</td>\n      <td>-0.285310</td>\n      <td>1</td>\n    </tr>\n    <tr>\n      <th>vechain</th>\n      <td>0.585089</td>\n      <td>-0.994231</td>\n      <td>-2.217108</td>\n      <td>-0.603898</td>\n      <td>-0.930423</td>\n      <td>0.077149</td>\n      <td>-0.117482</td>\n      <td>1</td>\n    </tr>\n    <tr>\n      <th>zcash</th>\n      <td>-0.127467</td>\n      <td>0.929119</td>\n      <td>0.677532</td>\n      <td>0.223834</td>\n      <td>-0.437068</td>\n      <td>-0.265163</td>\n      <td>-0.214829</td>\n      <td>0</td>\n    </tr>\n    <tr>\n      <th>theta-token</th>\n      <td>-1.612188</td>\n      <td>-1.682027</td>\n      <td>-0.816921</td>\n      <td>1.148607</td>\n      <td>1.712641</td>\n      <td>1.502992</td>\n      <td>0.286977</td>\n      <td>1</td>\n    </tr>\n    <tr>\n      <th>dash</th>\n      <td>-0.296940</td>\n      <td>0.094763</td>\n      <td>0.040040</td>\n      <td>-0.358830</td>\n      <td>-0.558527</td>\n      <td>-0.535732</td>\n      <td>-0.284071</td>\n      <td>1</td>\n    </tr>\n    <tr>\n      <th>ethereum-classic</th>\n      <td>-0.071312</td>\n      <td>-0.229484</td>\n      <td>-0.175544</td>\n      <td>0.051882</td>\n      <td>-0.551760</td>\n      <td>-0.526060</td>\n      <td>-0.273062</td>\n      <td>1</td>\n    </tr>\n    <tr>\n      <th>ethlend</th>\n      <td>-4.981042</td>\n      <td>-0.045178</td>\n      <td>-1.206956</td>\n      <td>-1.212126</td>\n      <td>0.047736</td>\n      <td>4.632380</td>\n      <td>6.088625</td>\n      <td>2</td>\n    </tr>\n    <tr>\n      <th>maker</th>\n      <td>-0.125168</td>\n      <td>0.580730</td>\n      <td>-0.202356</td>\n      <td>0.582911</td>\n      <td>-0.395923</td>\n      <td>-0.358240</td>\n      <td>-0.273433</td>\n      <td>0</td>\n    </tr>\n    <tr>\n      <th>havven</th>\n      <td>-1.428574</td>\n      <td>-0.025510</td>\n      <td>-1.628859</td>\n      <td>-0.860354</td>\n      <td>-0.840714</td>\n      <td>0.898815</td>\n      <td>0.268647</td>\n      <td>1</td>\n    </tr>\n    <tr>\n      <th>omisego</th>\n      <td>1.919812</td>\n      <td>0.370447</td>\n      <td>-1.619761</td>\n      <td>-0.409716</td>\n      <td>1.696480</td>\n      <td>0.811207</td>\n      <td>-0.021888</td>\n      <td>1</td>\n    </tr>\n    <tr>\n      <th>celsius-degree-token</th>\n      <td>1.045530</td>\n      <td>-0.618328</td>\n      <td>2.907054</td>\n      <td>5.351455</td>\n      <td>4.769913</td>\n      <td>3.148875</td>\n      <td>1.348488</td>\n      <td>3</td>\n    </tr>\n    <tr>\n      <th>ontology</th>\n      <td>-0.409044</td>\n      <td>-0.906963</td>\n      <td>-1.298986</td>\n      <td>-1.393153</td>\n      <td>-0.696937</td>\n      <td>-0.422835</td>\n      <td>-0.292344</td>\n      <td>1</td>\n    </tr>\n    <tr>\n      <th>ftx-token</th>\n      <td>0.414711</td>\n      <td>0.414044</td>\n      <td>-0.047386</td>\n      <td>-0.465380</td>\n      <td>0.128185</td>\n      <td>-0.416502</td>\n      <td>-0.145469</td>\n      <td>1</td>\n    </tr>\n    <tr>\n      <th>true-usd</th>\n      <td>0.078038</td>\n      <td>-0.687745</td>\n      <td>-0.009191</td>\n      <td>-0.058214</td>\n      <td>0.007388</td>\n      <td>-0.550441</td>\n      <td>-0.281747</td>\n      <td>1</td>\n    </tr>\n    <tr>\n      <th>digibyte</th>\n      <td>1.217453</td>\n      <td>-0.607714</td>\n      <td>-0.907066</td>\n      <td>0.449939</td>\n      <td>-0.662530</td>\n      <td>0.572367</td>\n      <td>-0.132482</td>\n      <td>1</td>\n    </tr>\n  </tbody>\n</table>\n</div>",
      "text/plain": "                      price_change_percentage_24h  price_change_percentage_7d  \\\ncoin_id                                                                         \nbitcoin                                  0.508529                    0.493193   \nethereum                                 0.185446                    0.934445   \ntether                                   0.021774                   -0.706337   \nripple                                  -0.040764                   -0.810928   \nbitcoin-cash                             1.193036                    2.000959   \nbinancecoin                              0.891871                    1.327295   \nchainlink                                0.011397                    2.572251   \ncardano                                  0.102530                    1.508001   \nlitecoin                                 0.077497                    0.334297   \nbitcoin-cash-sv                          0.448952                   -0.190684   \ncrypto-com-chain                         0.331280                   -1.614844   \nusd-coin                                 0.034352                   -0.733026   \neos                                      0.155710                   -0.922491   \nmonero                                   0.262723                    1.792602   \ntron                                     0.130050                   -0.041018   \ntezos                                   -0.151583                    0.708196   \nokb                                     -0.923203                   -1.437359   \nstellar                                 -0.277543                   -0.385209   \ncosmos                                  -0.255978                    1.840274   \ncdai                                     0.180851                   -0.704931   \nneo                                      0.286546                   -0.326301   \nwrapped-bitcoin                          0.515453                    0.461843   \nleo-token                                0.051758                   -0.928381   \nhuobi-token                             -0.052032                   -0.457229   \nnem                                     -0.217984                   -0.849381   \nbinance-usd                              0.061339                   -0.706669   \niota                                     0.259097                    0.249508   \nvechain                                  0.585089                   -0.994231   \nzcash                                   -0.127467                    0.929119   \ntheta-token                             -1.612188                   -1.682027   \ndash                                    -0.296940                    0.094763   \nethereum-classic                        -0.071312                   -0.229484   \nethlend                                 -4.981042                   -0.045178   \nmaker                                   -0.125168                    0.580730   \nhavven                                  -1.428574                   -0.025510   \nomisego                                  1.919812                    0.370447   \ncelsius-degree-token                     1.045530                   -0.618328   \nontology                                -0.409044                   -0.906963   \nftx-token                                0.414711                    0.414044   \ntrue-usd                                 0.078038                   -0.687745   \ndigibyte                                 1.217453                   -0.607714   \n\n                      price_change_percentage_14d  \\\ncoin_id                                             \nbitcoin                                  0.772200   \nethereum                                 0.558692   \ntether                                  -0.021680   \nripple                                   0.249458   \nbitcoin-cash                             1.760610   \nbinancecoin                              0.800214   \nchainlink                                1.101647   \ncardano                                  0.648885   \nlitecoin                                 0.858520   \nbitcoin-cash-sv                         -0.248043   \ncrypto-com-chain                        -1.054521   \nusd-coin                                -0.023140   \neos                                      0.115024   \nmonero                                   2.202665   \ntron                                     0.147155   \ntezos                                    0.258012   \nokb                                     -0.629963   \nstellar                                 -0.153243   \ncosmos                                   0.643565   \ncdai                                    -0.001816   \nneo                                     -1.212670   \nwrapped-bitcoin                          0.769975   \nleo-token                               -0.871918   \nhuobi-token                              0.032522   \nnem                                      0.297632   \nbinance-usd                             -0.015321   \niota                                    -0.478953   \nvechain                                 -2.217108   \nzcash                                    0.677532   \ntheta-token                             -0.816921   \ndash                                     0.040040   \nethereum-classic                        -0.175544   \nethlend                                 -1.206956   \nmaker                                   -0.202356   \nhavven                                  -1.628859   \nomisego                                 -1.619761   \ncelsius-degree-token                     2.907054   \nontology                                -1.298986   \nftx-token                               -0.047386   \ntrue-usd                                -0.009191   \ndigibyte                                -0.907066   \n\n                      price_change_percentage_30d  \\\ncoin_id                                             \nbitcoin                                  0.235460   \nethereum                                -0.054341   \ntether                                  -0.061030   \nripple                                  -0.050388   \nbitcoin-cash                             0.545842   \nbinancecoin                             -0.057148   \nchainlink                               -0.490495   \ncardano                                  0.328959   \nlitecoin                                -0.012646   \nbitcoin-cash-sv                          0.051634   \ncrypto-com-chain                        -0.729931   \nusd-coin                                -0.065775   \neos                                     -0.237488   \nmonero                                   1.437842   \ntron                                    -0.543776   \ntezos                                   -0.602296   \nokb                                     -0.460558   \nstellar                                 -0.371816   \ncosmos                                   0.116538   \ncdai                                    -0.143237   \nneo                                     -0.903134   \nwrapped-bitcoin                          0.224045   \nleo-token                                0.058782   \nhuobi-token                             -0.184489   \nnem                                     -0.199820   \nbinance-usd                             -0.058694   \niota                                    -0.218997   \nvechain                                 -0.603898   \nzcash                                    0.223834   \ntheta-token                              1.148607   \ndash                                    -0.358830   \nethereum-classic                         0.051882   \nethlend                                 -1.212126   \nmaker                                    0.582911   \nhavven                                  -0.860354   \nomisego                                 -0.409716   \ncelsius-degree-token                     5.351455   \nontology                                -1.393153   \nftx-token                               -0.465380   \ntrue-usd                                -0.058214   \ndigibyte                                 0.449939   \n\n                      price_change_percentage_60d  \\\ncoin_id                                             \nbitcoin                                 -0.067495   \nethereum                                -0.273483   \ntether                                   0.008005   \nripple                                  -0.373164   \nbitcoin-cash                            -0.291203   \nbinancecoin                              0.778653   \nchainlink                               -0.931954   \ncardano                                 -0.486349   \nlitecoin                                -0.366477   \nbitcoin-cash-sv                         -0.529666   \ncrypto-com-chain                        -0.350155   \nusd-coin                                 0.002925   \neos                                     -0.642837   \nmonero                                   0.893865   \ntron                                     0.120116   \ntezos                                   -0.956049   \nokb                                     -0.058504   \nstellar                                 -0.656403   \ncosmos                                  -0.151913   \ncdai                                     0.016060   \nneo                                      0.290970   \nwrapped-bitcoin                         -0.074674   \nleo-token                               -0.159250   \nhuobi-token                             -0.070809   \nnem                                      1.773127   \nbinance-usd                              0.004017   \niota                                    -0.735815   \nvechain                                 -0.930423   \nzcash                                   -0.437068   \ntheta-token                              1.712641   \ndash                                    -0.558527   \nethereum-classic                        -0.551760   \nethlend                                  0.047736   \nmaker                                   -0.395923   \nhavven                                  -0.840714   \nomisego                                  1.696480   \ncelsius-degree-token                     4.769913   \nontology                                -0.696937   \nftx-token                                0.128185   \ntrue-usd                                 0.007388   \ndigibyte                                -0.662530   \n\n                      price_change_percentage_200d  \\\ncoin_id                                              \nbitcoin                                  -0.355953   \nethereum                                 -0.115759   \ntether                                   -0.550247   \nripple                                   -0.458259   \nbitcoin-cash                             -0.499848   \nbinancecoin                              -0.188232   \nchainlink                                 0.387759   \ncardano                                   0.065080   \nlitecoin                                 -0.486266   \nbitcoin-cash-sv                          -0.532961   \ncrypto-com-chain                         -0.022866   \nusd-coin                                 -0.550599   \neos                                      -0.508220   \nmonero                                   -0.155893   \ntron                                     -0.241118   \ntezos                                    -0.449211   \nokb                                      -0.457283   \nstellar                                  -0.353387   \ncosmos                                   -0.117565   \ncdai                                     -0.551146   \nneo                                      -0.181187   \nwrapped-bitcoin                          -0.355054   \nleo-token                                -0.512071   \nhuobi-token                              -0.451982   \nnem                                      -0.047361   \nbinance-usd                              -0.550003   \niota                                     -0.329179   \nvechain                                   0.077149   \nzcash                                    -0.265163   \ntheta-token                               1.502992   \ndash                                     -0.535732   \nethereum-classic                         -0.526060   \nethlend                                   4.632380   \nmaker                                    -0.358240   \nhavven                                    0.898815   \nomisego                                   0.811207   \ncelsius-degree-token                      3.148875   \nontology                                 -0.422835   \nftx-token                                -0.416502   \ntrue-usd                                 -0.550441   \ndigibyte                                  0.572367   \n\n                      price_change_percentage_1y  clusters  \ncoin_id                                                     \nbitcoin                                -0.251637         0  \nethereum                               -0.199352         0  \ntether                                 -0.282061         1  \nripple                                 -0.295546         1  \nbitcoin-cash                           -0.270317         0  \nbinancecoin                            -0.225533         0  \nchainlink                              -0.018284         0  \ncardano                                -0.155428         0  \nlitecoin                               -0.292351         0  \nbitcoin-cash-sv                        -0.206029         1  \ncrypto-com-chain                       -0.034570         1  \nusd-coin                               -0.282232         1  \neos                                    -0.296330         1  \nmonero                                 -0.167644         0  \ntron                                   -0.234014         1  \ntezos                                  -0.168479         0  \nokb                                    -0.166900         1  \nstellar                                -0.270874         1  \ncosmos                                 -0.215191         0  \ncdai                                   -0.282310         1  \nneo                                    -0.175550         1  \nwrapped-bitcoin                        -0.251623         0  \nleo-token                              -0.265036         1  \nhuobi-token                            -0.262140         1  \nnem                                    -0.119226         1  \nbinance-usd                            -0.281963         1  \niota                                   -0.285310         1  \nvechain                                -0.117482         1  \nzcash                                  -0.214829         0  \ntheta-token                             0.286977         1  \ndash                                   -0.284071         1  \nethereum-classic                       -0.273062         1  \nethlend                                 6.088625         2  \nmaker                                  -0.273433         0  \nhavven                                  0.268647         1  \nomisego                                -0.021888         1  \ncelsius-degree-token                    1.348488         3  \nontology                               -0.292344         1  \nftx-token                              -0.145469         1  \ntrue-usd                               -0.281747         1  \ndigibyte                               -0.132482         1  "
     },
     "execution_count": 81,
     "metadata": {},
     "output_type": "execute_result"
    }
   ],
   "source": [
    "# Add a new column to the DataFrame with the predicted clusters\n",
    "df_market_data_scaled['clusters'] = clusters\n",
    "\n",
    "# Display sample data\n",
    "df_market_data_scaled"
   ]
  },
  {
   "cell_type": "code",
   "execution_count": 84,
   "metadata": {},
   "outputs": [
    {
     "data": {},
     "metadata": {},
     "output_type": "display_data"
    },
    {
     "data": {
      "application/vnd.holoviews_exec.v0+json": "",
      "text/html": "<div id='3581'>\n\n\n\n\n\n  <div class=\"bk-root\" id=\"36da118e-369f-462e-b253-f8d14ef6ff8f\" data-root-id=\"3581\"></div>\n</div>\n<script type=\"application/javascript\">(function(root) {\n  function embed_document(root) {\n    var docs_json = {\"79d3b910-5381-4890-be84-8cd50ec8eb10\":{\"defs\":[{\"extends\":null,\"module\":null,\"name\":\"ReactiveHTML1\",\"overrides\":[],\"properties\":[]},{\"extends\":null,\"module\":null,\"name\":\"FlexBox1\",\"overrides\":[],\"properties\":[{\"default\":\"flex-start\",\"kind\":null,\"name\":\"align_content\"},{\"default\":\"flex-start\",\"kind\":null,\"name\":\"align_items\"},{\"default\":\"row\",\"kind\":null,\"name\":\"flex_direction\"},{\"default\":\"wrap\",\"kind\":null,\"name\":\"flex_wrap\"},{\"default\":\"flex-start\",\"kind\":null,\"name\":\"justify_content\"}]},{\"extends\":null,\"module\":null,\"name\":\"TemplateActions1\",\"overrides\":[],\"properties\":[{\"default\":0,\"kind\":null,\"name\":\"open_modal\"},{\"default\":0,\"kind\":null,\"name\":\"close_modal\"}]},{\"extends\":null,\"module\":null,\"name\":\"MaterialTemplateActions1\",\"overrides\":[],\"properties\":[{\"default\":0,\"kind\":null,\"name\":\"open_modal\"},{\"default\":0,\"kind\":null,\"name\":\"close_modal\"}]}],\"roots\":{\"references\":[{\"attributes\":{\"axis\":{\"id\":\"3602\"},\"dimension\":1,\"grid_line_color\":null,\"ticker\":null},\"id\":\"3605\",\"type\":\"Grid\"},{\"attributes\":{},\"id\":\"3664\",\"type\":\"UnionRenderers\"},{\"attributes\":{\"children\":[{\"id\":\"3582\"},{\"id\":\"3589\"},{\"id\":\"3862\"}],\"margin\":[0,0,0,0],\"name\":\"Row07422\",\"tags\":[\"embedded\"]},\"id\":\"3581\",\"type\":\"Row\"},{\"attributes\":{\"fill_color\":{\"value\":\"#e5ae38\"},\"line_color\":{\"value\":\"#e5ae38\"},\"size\":{\"value\":5.477225575051661},\"x\":{\"field\":\"price_change_percentage_24h\"},\"y\":{\"field\":\"price_change_percentage_7d\"}},\"id\":\"3671\",\"type\":\"Scatter\"},{\"attributes\":{},\"id\":\"3599\",\"type\":\"BasicTicker\"},{\"attributes\":{},\"id\":\"3603\",\"type\":\"BasicTicker\"},{\"attributes\":{\"axis_label\":\"price_change_percentage_7d\",\"formatter\":{\"id\":\"3622\"},\"major_label_policy\":{\"id\":\"3623\"},\"ticker\":{\"id\":\"3603\"}},\"id\":\"3602\",\"type\":\"LinearAxis\"},{\"attributes\":{\"angle\":{\"value\":0.0},\"fill_alpha\":{\"value\":1.0},\"fill_color\":{\"value\":\"#fc4f30\"},\"hatch_alpha\":{\"value\":1.0},\"hatch_color\":{\"value\":\"black\"},\"hatch_scale\":{\"value\":12.0},\"hatch_weight\":{\"value\":1.0},\"line_alpha\":{\"value\":1.0},\"line_cap\":{\"value\":\"butt\"},\"line_color\":{\"value\":\"#fc4f30\"},\"line_dash\":{\"value\":[]},\"line_dash_offset\":{\"value\":0},\"line_join\":{\"value\":\"bevel\"},\"line_width\":{\"value\":1},\"marker\":{\"value\":\"circle\"},\"size\":{\"value\":5.477225575051661},\"x\":{\"field\":\"price_change_percentage_24h\"},\"y\":{\"field\":\"price_change_percentage_7d\"}},\"id\":\"3667\",\"type\":\"Scatter\"},{\"attributes\":{},\"id\":\"3669\",\"type\":\"Selection\"},{\"attributes\":{\"margin\":[5,5,5,5],\"name\":\"HSpacer07426\",\"sizing_mode\":\"stretch_width\"},\"id\":\"3582\",\"type\":\"Spacer\"},{\"attributes\":{\"fill_color\":{\"value\":\"#fc4f30\"},\"line_color\":{\"value\":\"#fc4f30\"},\"size\":{\"value\":5.477225575051661},\"x\":{\"field\":\"price_change_percentage_24h\"},\"y\":{\"field\":\"price_change_percentage_7d\"}},\"id\":\"3649\",\"type\":\"Scatter\"},{\"attributes\":{\"source\":{\"id\":\"3692\"}},\"id\":\"3699\",\"type\":\"CDSView\"},{\"attributes\":{\"label\":{\"value\":\"0\"},\"renderers\":[{\"id\":\"3631\"}]},\"id\":\"3644\",\"type\":\"LegendItem\"},{\"attributes\":{\"fill_alpha\":{\"value\":0.2},\"fill_color\":{\"value\":\"#e5ae38\"},\"line_alpha\":{\"value\":0.2},\"line_color\":{\"value\":\"#e5ae38\"},\"size\":{\"value\":5.477225575051661},\"x\":{\"field\":\"price_change_percentage_24h\"},\"y\":{\"field\":\"price_change_percentage_7d\"}},\"id\":\"3673\",\"type\":\"Scatter\"},{\"attributes\":{\"margin\":[5,5,5,5],\"name\":\"HSpacer07427\",\"sizing_mode\":\"stretch_width\"},\"id\":\"3862\",\"type\":\"Spacer\"},{\"attributes\":{\"end\":2.997678656273595,\"reset_end\":2.997678656273595,\"reset_start\":-2.107454305728652,\"start\":-2.107454305728652,\"tags\":[[[\"price_change_percentage_7d\",\"price_change_percentage_7d\",null]]]},\"id\":\"3584\",\"type\":\"Range1d\"},{\"attributes\":{\"data_source\":{\"id\":\"3625\"},\"glyph\":{\"id\":\"3628\"},\"hover_glyph\":null,\"muted_glyph\":{\"id\":\"3630\"},\"nonselection_glyph\":{\"id\":\"3629\"},\"selection_glyph\":{\"id\":\"3645\"},\"view\":{\"id\":\"3632\"}},\"id\":\"3631\",\"type\":\"GlyphRenderer\"},{\"attributes\":{},\"id\":\"3606\",\"type\":\"SaveTool\"},{\"attributes\":{\"data_source\":{\"id\":\"3668\"},\"glyph\":{\"id\":\"3671\"},\"hover_glyph\":null,\"muted_glyph\":{\"id\":\"3673\"},\"nonselection_glyph\":{\"id\":\"3672\"},\"selection_glyph\":{\"id\":\"3691\"},\"view\":{\"id\":\"3675\"}},\"id\":\"3674\",\"type\":\"GlyphRenderer\"},{\"attributes\":{},\"id\":\"3607\",\"type\":\"PanTool\"},{\"attributes\":{},\"id\":\"3641\",\"type\":\"UnionRenderers\"},{\"attributes\":{\"label\":{\"value\":\"2\"},\"renderers\":[{\"id\":\"3674\"}]},\"id\":\"3690\",\"type\":\"LegendItem\"},{\"attributes\":{},\"id\":\"3608\",\"type\":\"WheelZoomTool\"},{\"attributes\":{\"end\":2.2155632386560065,\"reset_end\":2.2155632386560065,\"reset_start\":-5.276792781891412,\"start\":-5.276792781891412,\"tags\":[[[\"price_change_percentage_24h\",\"price_change_percentage_24h\",null]]]},\"id\":\"3583\",\"type\":\"Range1d\"},{\"attributes\":{\"bottom_units\":\"screen\",\"fill_alpha\":0.5,\"fill_color\":\"lightgrey\",\"left_units\":\"screen\",\"level\":\"overlay\",\"line_alpha\":1.0,\"line_color\":\"black\",\"line_dash\":[4,4],\"line_width\":2,\"right_units\":\"screen\",\"syncable\":false,\"top_units\":\"screen\"},\"id\":\"3611\",\"type\":\"BoxAnnotation\"},{\"attributes\":{\"overlay\":{\"id\":\"3611\"}},\"id\":\"3609\",\"type\":\"BoxZoomTool\"},{\"attributes\":{\"source\":{\"id\":\"3668\"}},\"id\":\"3675\",\"type\":\"CDSView\"},{\"attributes\":{\"fill_alpha\":{\"value\":0.2},\"fill_color\":{\"value\":\"#30a2da\"},\"line_alpha\":{\"value\":0.2},\"line_color\":{\"value\":\"#30a2da\"},\"size\":{\"value\":5.477225575051661},\"x\":{\"field\":\"price_change_percentage_24h\"},\"y\":{\"field\":\"price_change_percentage_7d\"}},\"id\":\"3630\",\"type\":\"Scatter\"},{\"attributes\":{},\"id\":\"3594\",\"type\":\"LinearScale\"},{\"attributes\":{},\"id\":\"3714\",\"type\":\"UnionRenderers\"},{\"attributes\":{\"fill_alpha\":{\"value\":0.1},\"fill_color\":{\"value\":\"#e5ae38\"},\"line_alpha\":{\"value\":0.1},\"line_color\":{\"value\":\"#e5ae38\"},\"size\":{\"value\":5.477225575051661},\"x\":{\"field\":\"price_change_percentage_24h\"},\"y\":{\"field\":\"price_change_percentage_7d\"}},\"id\":\"3672\",\"type\":\"Scatter\"},{\"attributes\":{},\"id\":\"3610\",\"type\":\"ResetTool\"},{\"attributes\":{\"data_source\":{\"id\":\"3646\"},\"glyph\":{\"id\":\"3649\"},\"hover_glyph\":null,\"muted_glyph\":{\"id\":\"3651\"},\"nonselection_glyph\":{\"id\":\"3650\"},\"selection_glyph\":{\"id\":\"3667\"},\"view\":{\"id\":\"3653\"}},\"id\":\"3652\",\"type\":\"GlyphRenderer\"},{\"attributes\":{\"data\":{\"clusters\":[0,0,0,0,0,0,0,0,0,0,0,0,0],\"coin_id\":[\"bitcoin\",\"ethereum\",\"bitcoin-cash\",\"binancecoin\",\"chainlink\",\"cardano\",\"litecoin\",\"monero\",\"tezos\",\"cosmos\",\"wrapped-bitcoin\",\"zcash\",\"maker\"],\"price_change_percentage_24h\":{\"__ndarray__\":\"DdlqYN9F4D86azDosLzHPzALIwCtFvM/9w6McDSK7D/VDHOpb1eHPzMEvaFkP7o/Sds39trWsz9Epj8/c9DQP4xAeNEVZ8O/qq8st/Fh0L8FWWk3mH7gP6wo083aUMC//ACFOIMFwL8=\",\"dtype\":\"float64\",\"order\":\"little\",\"shape\":[13]},\"price_change_percentage_7d\":{\"__ndarray__\":\"U1k8q3mQ3z9yoPpI+ebtPzAB2dP2AQBAgmkOMZk89T8FNulI+JMEQCZRaSLGIPg/84wjaB1l1T8rMp3jf678P2VmURqKqeY/XK6ZksNx/T9DfMqy1o7dPyTPDB1Xu+0/srW7TleV4j8=\",\"dtype\":\"float64\",\"order\":\"little\",\"shape\":[13]}},\"selected\":{\"id\":\"3626\"},\"selection_policy\":{\"id\":\"3641\"}},\"id\":\"3625\",\"type\":\"ColumnDataSource\"},{\"attributes\":{},\"id\":\"3688\",\"type\":\"UnionRenderers\"},{\"attributes\":{\"data\":{\"clusters\":[2],\"coin_id\":[\"ethlend\"],\"price_change_percentage_24h\":{\"__ndarray__\":\"3WeHPpbsE8A=\",\"dtype\":\"float64\",\"order\":\"little\",\"shape\":[1]},\"price_change_percentage_7d\":{\"__ndarray__\":\"dIWi2pshp78=\",\"dtype\":\"float64\",\"order\":\"little\",\"shape\":[1]}},\"selected\":{\"id\":\"3669\"},\"selection_policy\":{\"id\":\"3688\"}},\"id\":\"3668\",\"type\":\"ColumnDataSource\"},{\"attributes\":{\"data\":{\"clusters\":[3],\"coin_id\":[\"celsius-degree-token\"],\"price_change_percentage_24h\":{\"__ndarray__\":\"VLqXBn668D8=\",\"dtype\":\"float64\",\"order\":\"little\",\"shape\":[1]},\"price_change_percentage_7d\":{\"__ndarray__\":\"Nv03JFjJ478=\",\"dtype\":\"float64\",\"order\":\"little\",\"shape\":[1]}},\"selected\":{\"id\":\"3693\"},\"selection_policy\":{\"id\":\"3714\"}},\"id\":\"3692\",\"type\":\"ColumnDataSource\"},{\"attributes\":{\"angle\":{\"value\":0.0},\"fill_alpha\":{\"value\":1.0},\"fill_color\":{\"value\":\"#e5ae38\"},\"hatch_alpha\":{\"value\":1.0},\"hatch_color\":{\"value\":\"black\"},\"hatch_scale\":{\"value\":12.0},\"hatch_weight\":{\"value\":1.0},\"line_alpha\":{\"value\":1.0},\"line_cap\":{\"value\":\"butt\"},\"line_color\":{\"value\":\"#e5ae38\"},\"line_dash\":{\"value\":[]},\"line_dash_offset\":{\"value\":0},\"line_join\":{\"value\":\"bevel\"},\"line_width\":{\"value\":1},\"marker\":{\"value\":\"circle\"},\"size\":{\"value\":5.477225575051661},\"x\":{\"field\":\"price_change_percentage_24h\"},\"y\":{\"field\":\"price_change_percentage_7d\"}},\"id\":\"3691\",\"type\":\"Scatter\"},{\"attributes\":{\"fill_alpha\":{\"value\":0.2},\"fill_color\":{\"value\":\"#fc4f30\"},\"line_alpha\":{\"value\":0.2},\"line_color\":{\"value\":\"#fc4f30\"},\"size\":{\"value\":5.477225575051661},\"x\":{\"field\":\"price_change_percentage_24h\"},\"y\":{\"field\":\"price_change_percentage_7d\"}},\"id\":\"3651\",\"type\":\"Scatter\"},{\"attributes\":{\"fill_alpha\":{\"value\":0.1},\"fill_color\":{\"value\":\"#6d904f\"},\"line_alpha\":{\"value\":0.1},\"line_color\":{\"value\":\"#6d904f\"},\"size\":{\"value\":5.477225575051661},\"x\":{\"field\":\"price_change_percentage_24h\"},\"y\":{\"field\":\"price_change_percentage_7d\"}},\"id\":\"3696\",\"type\":\"Scatter\"},{\"attributes\":{},\"id\":\"3647\",\"type\":\"Selection\"},{\"attributes\":{\"source\":{\"id\":\"3646\"}},\"id\":\"3653\",\"type\":\"CDSView\"},{\"attributes\":{\"fill_alpha\":{\"value\":0.2},\"fill_color\":{\"value\":\"#6d904f\"},\"line_alpha\":{\"value\":0.2},\"line_color\":{\"value\":\"#6d904f\"},\"size\":{\"value\":5.477225575051661},\"x\":{\"field\":\"price_change_percentage_24h\"},\"y\":{\"field\":\"price_change_percentage_7d\"}},\"id\":\"3697\",\"type\":\"Scatter\"},{\"attributes\":{\"fill_color\":{\"value\":\"#6d904f\"},\"line_color\":{\"value\":\"#6d904f\"},\"size\":{\"value\":5.477225575051661},\"x\":{\"field\":\"price_change_percentage_24h\"},\"y\":{\"field\":\"price_change_percentage_7d\"}},\"id\":\"3695\",\"type\":\"Scatter\"},{\"attributes\":{\"angle\":{\"value\":0.0},\"fill_alpha\":{\"value\":1.0},\"fill_color\":{\"value\":\"#30a2da\"},\"hatch_alpha\":{\"value\":1.0},\"hatch_color\":{\"value\":\"black\"},\"hatch_scale\":{\"value\":12.0},\"hatch_weight\":{\"value\":1.0},\"line_alpha\":{\"value\":1.0},\"line_cap\":{\"value\":\"butt\"},\"line_color\":{\"value\":\"#30a2da\"},\"line_dash\":{\"value\":[]},\"line_dash_offset\":{\"value\":0},\"line_join\":{\"value\":\"bevel\"},\"line_width\":{\"value\":1},\"marker\":{\"value\":\"circle\"},\"size\":{\"value\":5.477225575051661},\"x\":{\"field\":\"price_change_percentage_24h\"},\"y\":{\"field\":\"price_change_percentage_7d\"}},\"id\":\"3645\",\"type\":\"Scatter\"},{\"attributes\":{\"active_multi\":null,\"tools\":[{\"id\":\"3585\"},{\"id\":\"3606\"},{\"id\":\"3607\"},{\"id\":\"3608\"},{\"id\":\"3609\"},{\"id\":\"3610\"}]},\"id\":\"3612\",\"type\":\"Toolbar\"},{\"attributes\":{},\"id\":\"3620\",\"type\":\"AllLabels\"},{\"attributes\":{\"data\":{\"clusters\":[1,1,1,1,1,1,1,1,1,1,1,1,1,1,1,1,1,1,1,1,1,1,1,1,1,1],\"coin_id\":[\"tether\",\"ripple\",\"bitcoin-cash-sv\",\"crypto-com-chain\",\"usd-coin\",\"eos\",\"tron\",\"okb\",\"stellar\",\"cdai\",\"neo\",\"leo-token\",\"huobi-token\",\"nem\",\"binance-usd\",\"iota\",\"vechain\",\"theta-token\",\"dash\",\"ethereum-classic\",\"havven\",\"omisego\",\"ontology\",\"ftx-token\",\"true-usd\",\"digibyte\"],\"price_change_percentage_24h\":{\"__ndarray__\":\"mCJF1OlLlj/mJRG3Ed+kv1qZGRifu9w//rJXHrAz1T/yMTqenpahPx9kk3dK7sM/GTRehHalwD90fnl54Irtv9XPDahDw9G/+VOWQSEmxz+kpbukw1bSP6eM4M4OgKo/BcMOj9+jqr/Chq6S5ebLv2h3TIfCZ68/weEQ8QyV0D/KmZTmC7niP1YH9WGFy/m/N7JuVBEB07/EU4GAhEGyv8Ocf0hw2/a/lrPBJY23/j/IKcQzxy3av5WrmDyeito/Bf22eE/6sz9Y362Ir3rzPw==\",\"dtype\":\"float64\",\"order\":\"little\",\"shape\":[26]},\"price_change_percentage_7d\":{\"__ndarray__\":\"bZSIvk+a5r9RujxqH/Ppvw2U7adXaMi/d+r7VGbW+b9EGSx/8nTnv4rfBo4Lhe2/BEBwXEEApb8Udj8VbP/2vySelkVDp9i/7SZvVsyO5r8uu+JVH+LUvziN+gRMte2/o2qlez1D3b/CtPLKIS7rvyYjaswHnea/US6joeTvzz/dRmuCvtDvv/9TV66U6fq/ZWX+mWVCuD8GJ0pHuV/Nv8nIE2ZWH5q/TTxj/me11z+Htdvf1gXtv2Avihmzf9o/e31xtwIC5r/STlu6Y3Ljvw==\",\"dtype\":\"float64\",\"order\":\"little\",\"shape\":[26]}},\"selected\":{\"id\":\"3647\"},\"selection_policy\":{\"id\":\"3664\"}},\"id\":\"3646\",\"type\":\"ColumnDataSource\"},{\"attributes\":{},\"id\":\"3626\",\"type\":\"Selection\"},{\"attributes\":{\"data_source\":{\"id\":\"3692\"},\"glyph\":{\"id\":\"3695\"},\"hover_glyph\":null,\"muted_glyph\":{\"id\":\"3697\"},\"nonselection_glyph\":{\"id\":\"3696\"},\"selection_glyph\":{\"id\":\"3717\"},\"view\":{\"id\":\"3699\"}},\"id\":\"3698\",\"type\":\"GlyphRenderer\"},{\"attributes\":{\"callback\":null,\"renderers\":[{\"id\":\"3631\"},{\"id\":\"3652\"},{\"id\":\"3674\"},{\"id\":\"3698\"}],\"tags\":[\"hv_created\"],\"tooltips\":[[\"clusters\",\"@{clusters}\"],[\"price_change_percentage_24h\",\"@{price_change_percentage_24h}\"],[\"price_change_percentage_7d\",\"@{price_change_percentage_7d}\"],[\"coin_id\",\"@{coin_id}\"]]},\"id\":\"3585\",\"type\":\"HoverTool\"},{\"attributes\":{},\"id\":\"3693\",\"type\":\"Selection\"},{\"attributes\":{},\"id\":\"3619\",\"type\":\"BasicTickFormatter\"},{\"attributes\":{},\"id\":\"3623\",\"type\":\"AllLabels\"},{\"attributes\":{\"label\":{\"value\":\"3\"},\"renderers\":[{\"id\":\"3698\"}]},\"id\":\"3716\",\"type\":\"LegendItem\"},{\"attributes\":{},\"id\":\"3622\",\"type\":\"BasicTickFormatter\"},{\"attributes\":{\"fill_color\":{\"value\":\"#30a2da\"},\"line_color\":{\"value\":\"#30a2da\"},\"size\":{\"value\":5.477225575051661},\"x\":{\"field\":\"price_change_percentage_24h\"},\"y\":{\"field\":\"price_change_percentage_7d\"}},\"id\":\"3628\",\"type\":\"Scatter\"},{\"attributes\":{\"angle\":{\"value\":0.0},\"fill_alpha\":{\"value\":1.0},\"fill_color\":{\"value\":\"#6d904f\"},\"hatch_alpha\":{\"value\":1.0},\"hatch_color\":{\"value\":\"black\"},\"hatch_scale\":{\"value\":12.0},\"hatch_weight\":{\"value\":1.0},\"line_alpha\":{\"value\":1.0},\"line_cap\":{\"value\":\"butt\"},\"line_color\":{\"value\":\"#6d904f\"},\"line_dash\":{\"value\":[]},\"line_dash_offset\":{\"value\":0},\"line_join\":{\"value\":\"bevel\"},\"line_width\":{\"value\":1},\"marker\":{\"value\":\"circle\"},\"size\":{\"value\":5.477225575051661},\"x\":{\"field\":\"price_change_percentage_24h\"},\"y\":{\"field\":\"price_change_percentage_7d\"}},\"id\":\"3717\",\"type\":\"Scatter\"},{\"attributes\":{},\"id\":\"3596\",\"type\":\"LinearScale\"},{\"attributes\":{\"fill_alpha\":{\"value\":0.1},\"fill_color\":{\"value\":\"#30a2da\"},\"line_alpha\":{\"value\":0.1},\"line_color\":{\"value\":\"#30a2da\"},\"size\":{\"value\":5.477225575051661},\"x\":{\"field\":\"price_change_percentage_24h\"},\"y\":{\"field\":\"price_change_percentage_7d\"}},\"id\":\"3629\",\"type\":\"Scatter\"},{\"attributes\":{\"source\":{\"id\":\"3625\"}},\"id\":\"3632\",\"type\":\"CDSView\"},{\"attributes\":{\"text_color\":\"black\",\"text_font_size\":\"12pt\"},\"id\":\"3590\",\"type\":\"Title\"},{\"attributes\":{\"below\":[{\"id\":\"3598\"}],\"center\":[{\"id\":\"3601\"},{\"id\":\"3605\"}],\"height\":300,\"left\":[{\"id\":\"3602\"}],\"margin\":[5,5,5,5],\"min_border_bottom\":10,\"min_border_left\":10,\"min_border_right\":10,\"min_border_top\":10,\"renderers\":[{\"id\":\"3631\"},{\"id\":\"3652\"},{\"id\":\"3674\"},{\"id\":\"3698\"}],\"right\":[{\"id\":\"3643\"}],\"sizing_mode\":\"fixed\",\"title\":{\"id\":\"3590\"},\"toolbar\":{\"id\":\"3612\"},\"width\":700,\"x_range\":{\"id\":\"3583\"},\"x_scale\":{\"id\":\"3594\"},\"y_range\":{\"id\":\"3584\"},\"y_scale\":{\"id\":\"3596\"}},\"id\":\"3589\",\"subtype\":\"Figure\",\"type\":\"Plot\"},{\"attributes\":{\"click_policy\":\"mute\",\"items\":[{\"id\":\"3644\"},{\"id\":\"3666\"},{\"id\":\"3690\"},{\"id\":\"3716\"}],\"location\":[0,0],\"title\":\"clusters\"},\"id\":\"3643\",\"type\":\"Legend\"},{\"attributes\":{\"axis\":{\"id\":\"3598\"},\"grid_line_color\":null,\"ticker\":null},\"id\":\"3601\",\"type\":\"Grid\"},{\"attributes\":{\"fill_alpha\":{\"value\":0.1},\"fill_color\":{\"value\":\"#fc4f30\"},\"line_alpha\":{\"value\":0.1},\"line_color\":{\"value\":\"#fc4f30\"},\"size\":{\"value\":5.477225575051661},\"x\":{\"field\":\"price_change_percentage_24h\"},\"y\":{\"field\":\"price_change_percentage_7d\"}},\"id\":\"3650\",\"type\":\"Scatter\"},{\"attributes\":{\"axis_label\":\"price_change_percentage_24h\",\"formatter\":{\"id\":\"3619\"},\"major_label_policy\":{\"id\":\"3620\"},\"ticker\":{\"id\":\"3599\"}},\"id\":\"3598\",\"type\":\"LinearAxis\"},{\"attributes\":{\"label\":{\"value\":\"1\"},\"renderers\":[{\"id\":\"3652\"}]},\"id\":\"3666\",\"type\":\"LegendItem\"}],\"root_ids\":[\"3581\"]},\"title\":\"Bokeh Application\",\"version\":\"2.3.3\"}};\n    var render_items = [{\"docid\":\"79d3b910-5381-4890-be84-8cd50ec8eb10\",\"root_ids\":[\"3581\"],\"roots\":{\"3581\":\"36da118e-369f-462e-b253-f8d14ef6ff8f\"}}];\n    root.Bokeh.embed.embed_items_notebook(docs_json, render_items);\n  }\n  if (root.Bokeh !== undefined && root.Bokeh.Panel !== undefined) {\n    embed_document(root);\n  } else {\n    var attempts = 0;\n    var timer = setInterval(function(root) {\n      if (root.Bokeh !== undefined && root.Bokeh.Panel !== undefined) {\n        clearInterval(timer);\n        embed_document(root);\n      } else if (document.readyState == \"complete\") {\n        attempts++;\n        if (attempts > 200) {\n          clearInterval(timer);\n          console.log(\"Bokeh: ERROR: Unable to run BokehJS code because BokehJS library is missing\");\n        }\n      }\n    }, 25, root)\n  }\n})(window);</script>",
      "text/plain": ":NdOverlay   [clusters]\n   :Scatter   [price_change_percentage_24h]   (price_change_percentage_7d,coin_id)"
     },
     "execution_count": 84,
     "metadata": {
      "application/vnd.holoviews_exec.v0+json": {
       "id": "3581"
      }
     },
     "output_type": "execute_result"
    }
   ],
   "source": [
    "# Create a scatter plot using hvPlot by setting \n",
    "# `x=\"price_change_percentage_24h\"` and `y=\"price_change_percentage_7d\"`. \n",
    "# Color the graph points with the labels found using K-Means and \n",
    "# add the crypto name in the `hover_cols` parameter to identify \n",
    "# the cryptocurrency represented by each data point.\n",
    "df_market_data_scaled.hvplot.scatter(\n",
    "    x='price_change_percentage_24h',\n",
    "    y='price_change_percentage_7d',\n",
    "    by='clusters',\n",
    "    hover_cols='coin_id'\n",
    ")"
   ]
  },
  {
   "cell_type": "markdown",
   "metadata": {},
   "source": [
    "---"
   ]
  },
  {
   "cell_type": "markdown",
   "metadata": {},
   "source": [
    "### Optimize Clusters with Principal Component Analysis\n",
    "\n",
    "In this section, you will perform a principal component analysis (PCA) and reduce the features to three principal components.\n",
    "\n",
    "1. Create a PCA model instance and set `n_components=3`.\n",
    "\n",
    "2. Use the PCA model to reduce to three principal components. View the first five rows of the DataFrame. \n",
    "\n",
    "3. Retrieve the explained variance to determine how much information can be attributed to each principal component.\n",
    "\n",
    "4. Answer the following question: What is the total explained variance of the three principal components?\n",
    "\n",
    "5. Create a new DataFrame with the PCA data. Be sure to set the `coin_id` index from the original DataFrame as the index for the new DataFrame. Review the resulting DataFrame."
   ]
  },
  {
   "cell_type": "code",
   "execution_count": 85,
   "metadata": {},
   "outputs": [],
   "source": [
    "# Create a PCA model instance and set `n_components=3`.\n",
    "pca = PCA(n_components=3)"
   ]
  },
  {
   "cell_type": "code",
   "execution_count": 91,
   "metadata": {},
   "outputs": [
    {
     "data": {
      "text/plain": "array([[-0.82258702,  0.83270555,  0.56655379],\n       [-0.70990347,  0.45421229,  1.05640205],\n       [-0.30789987, -0.18460919, -0.74081973],\n       [-0.353704  , -0.23981488, -0.59614094],\n       [-1.48496628,  2.01848451,  1.78701064]])"
     },
     "execution_count": 91,
     "metadata": {},
     "output_type": "execute_result"
    }
   ],
   "source": [
    "# Use the PCA model with `fit_transform` to reduce to \n",
    "# three principal components.\n",
    "market_data_pca = pca.fit_transform(df_market_data_scaled)\n",
    "\n",
    "# View the first five rows of the DataFrame. \n",
    "market_data_pca[:5]"
   ]
  },
  {
   "cell_type": "code",
   "execution_count": 90,
   "metadata": {},
   "outputs": [
    {
     "data": {
      "text/plain": "array([0.3738947 , 0.32920008, 0.1850154 ])"
     },
     "execution_count": 90,
     "metadata": {},
     "output_type": "execute_result"
    }
   ],
   "source": [
    "# Retrieve the explained variance to determine how much information \n",
    "# can be attributed to each principal component.\n",
    "pca.explained_variance_ratio_"
   ]
  },
  {
   "cell_type": "markdown",
   "metadata": {},
   "source": [
    "#### Answer the following question: What is the total explained variance of the three principal components?\n",
    "\n",
    "**Question:** What is the total explained variance of the three principal components?\n",
    "\n",
    "**Answer:** The three principal components explain 89% of the data in the dataframe."
   ]
  },
  {
   "cell_type": "code",
   "execution_count": 103,
   "metadata": {},
   "outputs": [
    {
     "data": {
      "text/html": "<div>\n<style scoped>\n    .dataframe tbody tr th:only-of-type {\n        vertical-align: middle;\n    }\n\n    .dataframe tbody tr th {\n        vertical-align: top;\n    }\n\n    .dataframe thead th {\n        text-align: right;\n    }\n</style>\n<table border=\"1\" class=\"dataframe\">\n  <thead>\n    <tr style=\"text-align: right;\">\n      <th></th>\n      <th>PC1</th>\n      <th>PC2</th>\n      <th>PC3</th>\n    </tr>\n    <tr>\n      <th>coin_id</th>\n      <th></th>\n      <th></th>\n      <th></th>\n    </tr>\n  </thead>\n  <tbody>\n    <tr>\n      <th>bitcoin</th>\n      <td>-0.822587</td>\n      <td>0.832706</td>\n      <td>0.566554</td>\n    </tr>\n    <tr>\n      <th>ethereum</th>\n      <td>-0.709903</td>\n      <td>0.454212</td>\n      <td>1.056402</td>\n    </tr>\n    <tr>\n      <th>tether</th>\n      <td>-0.307900</td>\n      <td>-0.184609</td>\n      <td>-0.740820</td>\n    </tr>\n    <tr>\n      <th>ripple</th>\n      <td>-0.353704</td>\n      <td>-0.239815</td>\n      <td>-0.596141</td>\n    </tr>\n    <tr>\n      <th>bitcoin-cash</th>\n      <td>-1.484966</td>\n      <td>2.018485</td>\n      <td>1.787011</td>\n    </tr>\n    <tr>\n      <th>binancecoin</th>\n      <td>-0.781024</td>\n      <td>1.381609</td>\n      <td>0.902062</td>\n    </tr>\n    <tr>\n      <th>chainlink</th>\n      <td>-0.833238</td>\n      <td>0.519208</td>\n      <td>2.839653</td>\n    </tr>\n    <tr>\n      <th>cardano</th>\n      <td>-0.644167</td>\n      <td>0.729885</td>\n      <td>1.565143</td>\n    </tr>\n    <tr>\n      <th>litecoin</th>\n      <td>-0.868642</td>\n      <td>0.421293</td>\n      <td>0.694079</td>\n    </tr>\n    <tr>\n      <th>bitcoin-cash-sv</th>\n      <td>-0.649172</td>\n      <td>-0.225935</td>\n      <td>-0.392029</td>\n    </tr>\n    <tr>\n      <th>crypto-com-chain</th>\n      <td>-0.040712</td>\n      <td>-1.389292</td>\n      <td>-1.479353</td>\n    </tr>\n    <tr>\n      <th>usd-coin</th>\n      <td>-0.311314</td>\n      <td>-0.192038</td>\n      <td>-0.762095</td>\n    </tr>\n    <tr>\n      <th>eos</th>\n      <td>-0.556771</td>\n      <td>-0.497469</td>\n      <td>-0.674255</td>\n    </tr>\n    <tr>\n      <th>monero</th>\n      <td>-0.310518</td>\n      <td>2.920727</td>\n      <td>1.624866</td>\n    </tr>\n    <tr>\n      <th>tron</th>\n      <td>-0.314660</td>\n      <td>-0.121673</td>\n      <td>-0.141549</td>\n    </tr>\n    <tr>\n      <th>tezos</th>\n      <td>-1.019695</td>\n      <td>-0.507678</td>\n      <td>1.136937</td>\n    </tr>\n    <tr>\n      <th>okb</th>\n      <td>0.229683</td>\n      <td>-1.272646</td>\n      <td>-1.084205</td>\n    </tr>\n    <tr>\n      <th>stellar</th>\n      <td>-0.386659</td>\n      <td>-0.748870</td>\n      <td>-0.198786</td>\n    </tr>\n    <tr>\n      <th>cosmos</th>\n      <td>-0.623928</td>\n      <td>0.705798</td>\n      <td>1.799430</td>\n    </tr>\n    <tr>\n      <th>cdai</th>\n      <td>-0.384825</td>\n      <td>-0.161690</td>\n      <td>-0.767607</td>\n    </tr>\n    <tr>\n      <th>neo</th>\n      <td>-0.214733</td>\n      <td>-1.001127</td>\n      <td>-0.798546</td>\n    </tr>\n    <tr>\n      <th>wrapped-bitcoin</th>\n      <td>-0.824071</td>\n      <td>0.817177</td>\n      <td>0.545012</td>\n    </tr>\n    <tr>\n      <th>leo-token</th>\n      <td>-0.246613</td>\n      <td>-0.691052</td>\n      <td>-1.141461</td>\n    </tr>\n    <tr>\n      <th>huobi-token</th>\n      <td>-0.302089</td>\n      <td>-0.227363</td>\n      <td>-0.462716</td>\n    </tr>\n    <tr>\n      <th>nem</th>\n      <td>0.709842</td>\n      <td>0.575616</td>\n      <td>-1.064154</td>\n    </tr>\n    <tr>\n      <th>binance-usd</th>\n      <td>-0.324386</td>\n      <td>-0.168029</td>\n      <td>-0.749075</td>\n    </tr>\n    <tr>\n      <th>iota</th>\n      <td>-0.676445</td>\n      <td>-0.541351</td>\n      <td>0.011075</td>\n    </tr>\n    <tr>\n      <th>vechain</th>\n      <td>-0.338151</td>\n      <td>-1.959313</td>\n      <td>-1.327981</td>\n    </tr>\n    <tr>\n      <th>zcash</th>\n      <td>-0.686153</td>\n      <td>0.489983</td>\n      <td>1.160207</td>\n    </tr>\n    <tr>\n      <th>theta-token</th>\n      <td>2.773629</td>\n      <td>0.056124</td>\n      <td>-1.521206</td>\n    </tr>\n    <tr>\n      <th>dash</th>\n      <td>-0.541847</td>\n      <td>-0.498020</td>\n      <td>0.161132</td>\n    </tr>\n    <tr>\n      <th>ethereum-classic</th>\n      <td>-0.480483</td>\n      <td>-0.375452</td>\n      <td>-0.264970</td>\n    </tr>\n    <tr>\n      <th>ethlend</th>\n      <td>8.064371</td>\n      <td>-3.664118</td>\n      <td>2.999038</td>\n    </tr>\n    <tr>\n      <th>maker</th>\n      <td>-0.597629</td>\n      <td>0.161290</td>\n      <td>0.532155</td>\n    </tr>\n    <tr>\n      <th>havven</th>\n      <td>0.933272</td>\n      <td>-2.236852</td>\n      <td>0.340675</td>\n    </tr>\n    <tr>\n      <th>omisego</th>\n      <td>0.237903</td>\n      <td>0.425833</td>\n      <td>-1.189850</td>\n    </tr>\n    <tr>\n      <th>celsius-degree-token</th>\n      <td>5.153744</td>\n      <td>6.878652</td>\n      <td>-1.924068</td>\n    </tr>\n    <tr>\n      <th>ontology</th>\n      <td>-0.450823</td>\n      <td>-2.129476</td>\n      <td>-0.758038</td>\n    </tr>\n    <tr>\n      <th>ftx-token</th>\n      <td>-0.526103</td>\n      <td>0.002803</td>\n      <td>0.038193</td>\n    </tr>\n    <tr>\n      <th>true-usd</th>\n      <td>-0.333235</td>\n      <td>-0.152945</td>\n      <td>-0.738993</td>\n    </tr>\n    <tr>\n      <th>digibyte</th>\n      <td>-0.155298</td>\n      <td>-0.204590</td>\n      <td>-0.981723</td>\n    </tr>\n  </tbody>\n</table>\n</div>",
      "text/plain": "                           PC1       PC2       PC3\ncoin_id                                           \nbitcoin              -0.822587  0.832706  0.566554\nethereum             -0.709903  0.454212  1.056402\ntether               -0.307900 -0.184609 -0.740820\nripple               -0.353704 -0.239815 -0.596141\nbitcoin-cash         -1.484966  2.018485  1.787011\nbinancecoin          -0.781024  1.381609  0.902062\nchainlink            -0.833238  0.519208  2.839653\ncardano              -0.644167  0.729885  1.565143\nlitecoin             -0.868642  0.421293  0.694079\nbitcoin-cash-sv      -0.649172 -0.225935 -0.392029\ncrypto-com-chain     -0.040712 -1.389292 -1.479353\nusd-coin             -0.311314 -0.192038 -0.762095\neos                  -0.556771 -0.497469 -0.674255\nmonero               -0.310518  2.920727  1.624866\ntron                 -0.314660 -0.121673 -0.141549\ntezos                -1.019695 -0.507678  1.136937\nokb                   0.229683 -1.272646 -1.084205\nstellar              -0.386659 -0.748870 -0.198786\ncosmos               -0.623928  0.705798  1.799430\ncdai                 -0.384825 -0.161690 -0.767607\nneo                  -0.214733 -1.001127 -0.798546\nwrapped-bitcoin      -0.824071  0.817177  0.545012\nleo-token            -0.246613 -0.691052 -1.141461\nhuobi-token          -0.302089 -0.227363 -0.462716\nnem                   0.709842  0.575616 -1.064154\nbinance-usd          -0.324386 -0.168029 -0.749075\niota                 -0.676445 -0.541351  0.011075\nvechain              -0.338151 -1.959313 -1.327981\nzcash                -0.686153  0.489983  1.160207\ntheta-token           2.773629  0.056124 -1.521206\ndash                 -0.541847 -0.498020  0.161132\nethereum-classic     -0.480483 -0.375452 -0.264970\nethlend               8.064371 -3.664118  2.999038\nmaker                -0.597629  0.161290  0.532155\nhavven                0.933272 -2.236852  0.340675\nomisego               0.237903  0.425833 -1.189850\ncelsius-degree-token  5.153744  6.878652 -1.924068\nontology             -0.450823 -2.129476 -0.758038\nftx-token            -0.526103  0.002803  0.038193\ntrue-usd             -0.333235 -0.152945 -0.738993\ndigibyte             -0.155298 -0.204590 -0.981723"
     },
     "execution_count": 103,
     "metadata": {},
     "output_type": "execute_result"
    }
   ],
   "source": [
    "# Create a new DataFrame with the PCA data.\n",
    "market_data_pca_df = pd.DataFrame(\n",
    "    market_data_pca,\n",
    "    columns=['PC1', 'PC2', 'PC3']\n",
    ")\n",
    "\n",
    "# Copy the crypto names from the original data\n",
    "market_data_pca_df['coin_id'] = df_market_data_scaled.index\n",
    "\n",
    "# Set the coinid column as index\n",
    "market_data_pca_df = market_data_pca_df.set_index('coin_id')\n",
    "\n",
    "# Display sample data\n",
    "market_data_pca_df"
   ]
  },
  {
   "cell_type": "markdown",
   "metadata": {},
   "source": [
    "---"
   ]
  },
  {
   "cell_type": "markdown",
   "metadata": {},
   "source": [
    "### Find the Best Value for k Using the PCA Data\n",
    "\n",
    "In this section, you will use the elbow method to find the best value for `k` using the PCA data.\n",
    "\n",
    "1. Code the elbow method algorithm and use the PCA data to find the best value for `k`. Use a range from 1 to 11. \n",
    "\n",
    "2. Plot a line chart with all the inertia values computed with the different values of `k` to visually identify the optimal value for `k`.\n",
    "\n",
    "3. Answer the following questions: What is the best value for k when using the PCA data? Does it differ from the best k value found using the original data?"
   ]
  },
  {
   "cell_type": "code",
   "execution_count": 104,
   "metadata": {},
   "outputs": [],
   "source": [
    "# Create a list with the number of k-values to try\n",
    "# Use a range from 1 to 11\n",
    "k = list(range(1,11))"
   ]
  },
  {
   "cell_type": "code",
   "execution_count": 105,
   "metadata": {},
   "outputs": [],
   "source": [
    "# Create an empy list to store the inertia values\n",
    "inertia = []"
   ]
  },
  {
   "cell_type": "code",
   "execution_count": 106,
   "metadata": {},
   "outputs": [],
   "source": [
    "# Create a for loop to compute the inertia with each possible value of k\n",
    "# Inside the loop:\n",
    "# 1. Create a KMeans model using the loop counter for the n_clusters\n",
    "# 2. Fit the model to the data using `df_market_data_pca`\n",
    "# 3. Append the model.inertia_ to the inertia list\n",
    "for i in k:\n",
    "    model = KMeans(n_clusters=i, random_state=0)\n",
    "    model.fit(market_data_pca_df)\n",
    "    inertia.append(model.inertia_)"
   ]
  },
  {
   "cell_type": "code",
   "execution_count": 107,
   "metadata": {},
   "outputs": [],
   "source": [
    "# Create a dictionary with the data to plot the Elbow curve\n",
    "elbow_data_pca = {\n",
    "    'k': k,\n",
    "    'inertia': inertia\n",
    "}\n",
    "\n",
    "# Create a DataFrame with the data to plot the Elbow curve\n",
    "df_elbow_pca = pd.DataFrame(elbow_data)"
   ]
  },
  {
   "cell_type": "code",
   "execution_count": 108,
   "metadata": {},
   "outputs": [
    {
     "data": {},
     "metadata": {},
     "output_type": "display_data"
    },
    {
     "data": {
      "application/vnd.holoviews_exec.v0+json": "",
      "text/html": "<div id='4298'>\n\n\n\n\n\n  <div class=\"bk-root\" id=\"d03e4d8c-48c3-47f5-bc18-4462ee8da704\" data-root-id=\"4298\"></div>\n</div>\n<script type=\"application/javascript\">(function(root) {\n  function embed_document(root) {\n    var docs_json = {\"653fe360-95e1-4a5e-ac30-f63cdaba4377\":{\"defs\":[{\"extends\":null,\"module\":null,\"name\":\"ReactiveHTML1\",\"overrides\":[],\"properties\":[]},{\"extends\":null,\"module\":null,\"name\":\"FlexBox1\",\"overrides\":[],\"properties\":[{\"default\":\"flex-start\",\"kind\":null,\"name\":\"align_content\"},{\"default\":\"flex-start\",\"kind\":null,\"name\":\"align_items\"},{\"default\":\"row\",\"kind\":null,\"name\":\"flex_direction\"},{\"default\":\"wrap\",\"kind\":null,\"name\":\"flex_wrap\"},{\"default\":\"flex-start\",\"kind\":null,\"name\":\"justify_content\"}]},{\"extends\":null,\"module\":null,\"name\":\"TemplateActions1\",\"overrides\":[],\"properties\":[{\"default\":0,\"kind\":null,\"name\":\"open_modal\"},{\"default\":0,\"kind\":null,\"name\":\"close_modal\"}]},{\"extends\":null,\"module\":null,\"name\":\"MaterialTemplateActions1\",\"overrides\":[],\"properties\":[{\"default\":0,\"kind\":null,\"name\":\"open_modal\"},{\"default\":0,\"kind\":null,\"name\":\"close_modal\"}]}],\"roots\":{\"references\":[{\"attributes\":{\"overlay\":{\"id\":\"4325\"}},\"id\":\"4323\",\"type\":\"BoxZoomTool\"},{\"attributes\":{\"axis_label\":\"k\",\"formatter\":{\"id\":\"4343\"},\"major_label_policy\":{\"id\":\"4344\"},\"ticker\":{\"id\":\"4342\"}},\"id\":\"4312\",\"type\":\"LinearAxis\"},{\"attributes\":{},\"id\":\"4310\",\"type\":\"LinearScale\"},{\"attributes\":{\"end\":10.0,\"reset_end\":10.0,\"reset_start\":1.0,\"start\":1.0,\"tags\":[[[\"k\",\"k\",null]]]},\"id\":\"4300\",\"type\":\"Range1d\"},{\"attributes\":{\"line_alpha\":0.1,\"line_color\":\"#30a2da\",\"line_width\":2,\"x\":{\"field\":\"k\"},\"y\":{\"field\":\"inertia\"}},\"id\":\"4337\",\"type\":\"Line\"},{\"attributes\":{},\"id\":\"4348\",\"type\":\"BasicTickFormatter\"},{\"attributes\":{\"margin\":[5,5,5,5],\"name\":\"HSpacer08677\",\"sizing_mode\":\"stretch_width\"},\"id\":\"4299\",\"type\":\"Spacer\"},{\"attributes\":{\"axis\":{\"id\":\"4316\"},\"dimension\":1,\"grid_line_color\":null,\"ticker\":null},\"id\":\"4319\",\"type\":\"Grid\"},{\"attributes\":{},\"id\":\"4324\",\"type\":\"ResetTool\"},{\"attributes\":{},\"id\":\"4349\",\"type\":\"AllLabels\"},{\"attributes\":{},\"id\":\"4308\",\"type\":\"LinearScale\"},{\"attributes\":{},\"id\":\"4344\",\"type\":\"AllLabels\"},{\"attributes\":{\"below\":[{\"id\":\"4312\"}],\"center\":[{\"id\":\"4315\"},{\"id\":\"4319\"}],\"height\":300,\"left\":[{\"id\":\"4316\"}],\"margin\":[5,5,5,5],\"min_border_bottom\":10,\"min_border_left\":10,\"min_border_right\":10,\"min_border_top\":10,\"renderers\":[{\"id\":\"4339\"}],\"sizing_mode\":\"fixed\",\"title\":{\"id\":\"4304\"},\"toolbar\":{\"id\":\"4326\"},\"width\":700,\"x_range\":{\"id\":\"4300\"},\"x_scale\":{\"id\":\"4308\"},\"y_range\":{\"id\":\"4301\"},\"y_scale\":{\"id\":\"4310\"}},\"id\":\"4303\",\"subtype\":\"Figure\",\"type\":\"Plot\"},{\"attributes\":{\"line_color\":\"#30a2da\",\"line_width\":2,\"x\":{\"field\":\"k\"},\"y\":{\"field\":\"inertia\"}},\"id\":\"4336\",\"type\":\"Line\"},{\"attributes\":{\"axis\":{\"id\":\"4312\"},\"grid_line_color\":null,\"ticker\":null},\"id\":\"4315\",\"type\":\"Grid\"},{\"attributes\":{\"text\":\"Elbow Curve PCA\",\"text_color\":\"black\",\"text_font_size\":\"12pt\"},\"id\":\"4304\",\"type\":\"Title\"},{\"attributes\":{\"data\":{\"inertia\":{\"__ndarray__\":\"AAAAAADwcUByhzI6P3poQOGRvNowzF5AGe6ulG/BU0BoEQsuWlNQQOfqC/e6cUpAiSebkxT1RUBt++EeLsJCQMF0IF8cPkBAi3eL7Q85PEA=\",\"dtype\":\"float64\",\"order\":\"little\",\"shape\":[10]},\"k\":[1,2,3,4,5,6,7,8,9,10]},\"selected\":{\"id\":\"4334\"},\"selection_policy\":{\"id\":\"4358\"}},\"id\":\"4333\",\"type\":\"ColumnDataSource\"},{\"attributes\":{\"callback\":null,\"renderers\":[{\"id\":\"4339\"}],\"tags\":[\"hv_created\"],\"tooltips\":[[\"k\",\"@{k}\"],[\"inertia\",\"@{inertia}\"]]},\"id\":\"4302\",\"type\":\"HoverTool\"},{\"attributes\":{},\"id\":\"4317\",\"type\":\"BasicTicker\"},{\"attributes\":{},\"id\":\"4358\",\"type\":\"UnionRenderers\"},{\"attributes\":{\"axis_label\":\"inertia\",\"formatter\":{\"id\":\"4348\"},\"major_label_policy\":{\"id\":\"4349\"},\"ticker\":{\"id\":\"4317\"}},\"id\":\"4316\",\"type\":\"LinearAxis\"},{\"attributes\":{\"ticks\":[1,2,3,4,5,6,7,8,9,10]},\"id\":\"4342\",\"type\":\"FixedTicker\"},{\"attributes\":{\"children\":[{\"id\":\"4299\"},{\"id\":\"4303\"},{\"id\":\"4369\"}],\"margin\":[0,0,0,0],\"name\":\"Row08673\",\"tags\":[\"embedded\"]},\"id\":\"4298\",\"type\":\"Row\"},{\"attributes\":{\"bottom_units\":\"screen\",\"fill_alpha\":0.5,\"fill_color\":\"lightgrey\",\"left_units\":\"screen\",\"level\":\"overlay\",\"line_alpha\":1.0,\"line_color\":\"black\",\"line_dash\":[4,4],\"line_width\":2,\"right_units\":\"screen\",\"syncable\":false,\"top_units\":\"screen\"},\"id\":\"4325\",\"type\":\"BoxAnnotation\"},{\"attributes\":{\"line_alpha\":0.2,\"line_color\":\"#30a2da\",\"line_width\":2,\"x\":{\"field\":\"k\"},\"y\":{\"field\":\"inertia\"}},\"id\":\"4338\",\"type\":\"Line\"},{\"attributes\":{\"data_source\":{\"id\":\"4333\"},\"glyph\":{\"id\":\"4336\"},\"hover_glyph\":null,\"muted_glyph\":{\"id\":\"4338\"},\"nonselection_glyph\":{\"id\":\"4337\"},\"selection_glyph\":{\"id\":\"4341\"},\"view\":{\"id\":\"4340\"}},\"id\":\"4339\",\"type\":\"GlyphRenderer\"},{\"attributes\":{},\"id\":\"4343\",\"type\":\"BasicTickFormatter\"},{\"attributes\":{\"active_multi\":null,\"tools\":[{\"id\":\"4302\"},{\"id\":\"4320\"},{\"id\":\"4321\"},{\"id\":\"4322\"},{\"id\":\"4323\"},{\"id\":\"4324\"}]},\"id\":\"4326\",\"type\":\"Toolbar\"},{\"attributes\":{},\"id\":\"4334\",\"type\":\"Selection\"},{\"attributes\":{\"margin\":[5,5,5,5],\"name\":\"HSpacer08678\",\"sizing_mode\":\"stretch_width\"},\"id\":\"4369\",\"type\":\"Spacer\"},{\"attributes\":{\"line_color\":\"#30a2da\",\"line_width\":2,\"x\":{\"field\":\"k\"},\"y\":{\"field\":\"inertia\"}},\"id\":\"4341\",\"type\":\"Line\"},{\"attributes\":{},\"id\":\"4320\",\"type\":\"SaveTool\"},{\"attributes\":{},\"id\":\"4321\",\"type\":\"PanTool\"},{\"attributes\":{\"source\":{\"id\":\"4333\"}},\"id\":\"4340\",\"type\":\"CDSView\"},{\"attributes\":{},\"id\":\"4322\",\"type\":\"WheelZoomTool\"},{\"attributes\":{\"end\":312.8777100709391,\"reset_end\":312.8777100709391,\"reset_start\":2.3451892196698267,\"start\":2.3451892196698267,\"tags\":[[[\"inertia\",\"inertia\",null]]]},\"id\":\"4301\",\"type\":\"Range1d\"}],\"root_ids\":[\"4298\"]},\"title\":\"Bokeh Application\",\"version\":\"2.3.3\"}};\n    var render_items = [{\"docid\":\"653fe360-95e1-4a5e-ac30-f63cdaba4377\",\"root_ids\":[\"4298\"],\"roots\":{\"4298\":\"d03e4d8c-48c3-47f5-bc18-4462ee8da704\"}}];\n    root.Bokeh.embed.embed_items_notebook(docs_json, render_items);\n  }\n  if (root.Bokeh !== undefined && root.Bokeh.Panel !== undefined) {\n    embed_document(root);\n  } else {\n    var attempts = 0;\n    var timer = setInterval(function(root) {\n      if (root.Bokeh !== undefined && root.Bokeh.Panel !== undefined) {\n        clearInterval(timer);\n        embed_document(root);\n      } else if (document.readyState == \"complete\") {\n        attempts++;\n        if (attempts > 200) {\n          clearInterval(timer);\n          console.log(\"Bokeh: ERROR: Unable to run BokehJS code because BokehJS library is missing\");\n        }\n      }\n    }, 25, root)\n  }\n})(window);</script>",
      "text/plain": ":Curve   [k]   (inertia)"
     },
     "execution_count": 108,
     "metadata": {
      "application/vnd.holoviews_exec.v0+json": {
       "id": "4298"
      }
     },
     "output_type": "execute_result"
    }
   ],
   "source": [
    "# Plot a line chart with all the inertia values computed with \n",
    "# the different values of k to visually identify the optimal value for k.\n",
    "df_elbow_pca.hvplot(x='k', y='inertia', title='Elbow Curve PCA', xticks=k)"
   ]
  },
  {
   "cell_type": "markdown",
   "metadata": {},
   "source": [
    "#### Answer the following questions: What is the best value for k when using the PCA data? Does it differ from the best k value found using the original data?\n",
    "* **Question:** What is the best value for `k` when using the PCA data?\n",
    "\n",
    "  * **Answer:** The best value for 'k' using the PCA data is 4.\n",
    "\n",
    "\n",
    "* **Question:** Does it differ from the best k value found using the original data?\n",
    "\n",
    "  * **Answer:** The best value for k is the same as the original data"
   ]
  },
  {
   "cell_type": "markdown",
   "metadata": {},
   "source": [
    "---"
   ]
  },
  {
   "cell_type": "markdown",
   "metadata": {},
   "source": [
    "### Cluster Cryptocurrencies with K-means Using the PCA Data\n",
    "\n",
    "In this section, you will use the PCA data and the K-Means algorithm with the best value for `k` found in the previous section to cluster the cryptocurrencies according to the principal components.\n",
    "\n",
    "1. Initialize the K-Means model with four clusters using the best value for `k`. \n",
    "\n",
    "2. Fit the K-Means model using the PCA data.\n",
    "\n",
    "3. Predict the clusters to group the cryptocurrencies using the PCA data. View the resulting array of cluster values.\n",
    "\n",
    "4. Add a new column to the DataFrame with the PCA data to store the predicted clusters.\n",
    "\n",
    "5. Create a scatter plot using hvPlot by setting `x=\"price_change_percentage_24h\"` and `y=\"price_change_percentage_7d\"`. Color the graph points with the labels found using K-Means and add the crypto name in the `hover_cols` parameter to identify the cryptocurrency represented by each data point."
   ]
  },
  {
   "cell_type": "code",
   "execution_count": 109,
   "metadata": {},
   "outputs": [],
   "source": [
    "# Initialize the K-Means model using the best value for k\n",
    "model = KMeans(n_clusters=4)"
   ]
  },
  {
   "cell_type": "code",
   "execution_count": 110,
   "metadata": {},
   "outputs": [
    {
     "data": {
      "text/plain": "KMeans(n_clusters=4)"
     },
     "execution_count": 110,
     "metadata": {},
     "output_type": "execute_result"
    }
   ],
   "source": [
    "# Fit the K-Means model using the PCA data\n",
    "model.fit(market_data_pca_df)"
   ]
  },
  {
   "cell_type": "code",
   "execution_count": 111,
   "metadata": {},
   "outputs": [
    {
     "data": {
      "text/plain": "array([0, 0, 0, 0, 1, 1, 1, 1, 0, 1, 0, 1, 1, 0, 1, 1, 0, 1, 1, 1, 1, 1,\n       1, 0, 1, 1, 1, 2, 0, 1, 1, 3, 1, 1, 1, 1], dtype=int32)"
     },
     "execution_count": 111,
     "metadata": {},
     "output_type": "execute_result"
    }
   ],
   "source": [
    "# Predict the clusters to group the cryptocurrencies using the PCA data\n",
    "clusters_pca = model.predict(market_data_pca_df)\n",
    "\n",
    "# View the resulting array of cluster values.\n",
    "clusters_pca[5:]"
   ]
  },
  {
   "cell_type": "code",
   "execution_count": 112,
   "metadata": {},
   "outputs": [
    {
     "data": {
      "text/html": "<div>\n<style scoped>\n    .dataframe tbody tr th:only-of-type {\n        vertical-align: middle;\n    }\n\n    .dataframe tbody tr th {\n        vertical-align: top;\n    }\n\n    .dataframe thead th {\n        text-align: right;\n    }\n</style>\n<table border=\"1\" class=\"dataframe\">\n  <thead>\n    <tr style=\"text-align: right;\">\n      <th></th>\n      <th>PC1</th>\n      <th>PC2</th>\n      <th>PC3</th>\n      <th>clusters</th>\n    </tr>\n    <tr>\n      <th>coin_id</th>\n      <th></th>\n      <th></th>\n      <th></th>\n      <th></th>\n    </tr>\n  </thead>\n  <tbody>\n    <tr>\n      <th>bitcoin</th>\n      <td>-0.822587</td>\n      <td>0.832706</td>\n      <td>0.566554</td>\n      <td>0</td>\n    </tr>\n    <tr>\n      <th>ethereum</th>\n      <td>-0.709903</td>\n      <td>0.454212</td>\n      <td>1.056402</td>\n      <td>0</td>\n    </tr>\n    <tr>\n      <th>tether</th>\n      <td>-0.307900</td>\n      <td>-0.184609</td>\n      <td>-0.740820</td>\n      <td>1</td>\n    </tr>\n    <tr>\n      <th>ripple</th>\n      <td>-0.353704</td>\n      <td>-0.239815</td>\n      <td>-0.596141</td>\n      <td>1</td>\n    </tr>\n    <tr>\n      <th>bitcoin-cash</th>\n      <td>-1.484966</td>\n      <td>2.018485</td>\n      <td>1.787011</td>\n      <td>0</td>\n    </tr>\n  </tbody>\n</table>\n</div>",
      "text/plain": "                   PC1       PC2       PC3  clusters\ncoin_id                                             \nbitcoin      -0.822587  0.832706  0.566554         0\nethereum     -0.709903  0.454212  1.056402         0\ntether       -0.307900 -0.184609 -0.740820         1\nripple       -0.353704 -0.239815 -0.596141         1\nbitcoin-cash -1.484966  2.018485  1.787011         0"
     },
     "execution_count": 112,
     "metadata": {},
     "output_type": "execute_result"
    }
   ],
   "source": [
    "# Add a new column to the DataFrame with the predicted clusters\n",
    "market_data_pca_df['clusters'] = clusters_pca\n",
    "\n",
    "# Display sample data\n",
    "market_data_pca_df.head()"
   ]
  },
  {
   "cell_type": "code",
   "execution_count": 115,
   "metadata": {},
   "outputs": [
    {
     "data": {},
     "metadata": {},
     "output_type": "display_data"
    },
    {
     "data": {
      "application/vnd.holoviews_exec.v0+json": "",
      "text/html": "<div id='4779'>\n\n\n\n\n\n  <div class=\"bk-root\" id=\"de8fb024-ddfb-4adb-b62c-351fc901dc7b\" data-root-id=\"4779\"></div>\n</div>\n<script type=\"application/javascript\">(function(root) {\n  function embed_document(root) {\n    var docs_json = {\"1aa80760-2505-49ae-a233-2977717aae32\":{\"defs\":[{\"extends\":null,\"module\":null,\"name\":\"ReactiveHTML1\",\"overrides\":[],\"properties\":[]},{\"extends\":null,\"module\":null,\"name\":\"FlexBox1\",\"overrides\":[],\"properties\":[{\"default\":\"flex-start\",\"kind\":null,\"name\":\"align_content\"},{\"default\":\"flex-start\",\"kind\":null,\"name\":\"align_items\"},{\"default\":\"row\",\"kind\":null,\"name\":\"flex_direction\"},{\"default\":\"wrap\",\"kind\":null,\"name\":\"flex_wrap\"},{\"default\":\"flex-start\",\"kind\":null,\"name\":\"justify_content\"}]},{\"extends\":null,\"module\":null,\"name\":\"TemplateActions1\",\"overrides\":[],\"properties\":[{\"default\":0,\"kind\":null,\"name\":\"open_modal\"},{\"default\":0,\"kind\":null,\"name\":\"close_modal\"}]},{\"extends\":null,\"module\":null,\"name\":\"MaterialTemplateActions1\",\"overrides\":[],\"properties\":[{\"default\":0,\"kind\":null,\"name\":\"open_modal\"},{\"default\":0,\"kind\":null,\"name\":\"close_modal\"}]}],\"roots\":{\"references\":[{\"attributes\":{\"fill_alpha\":{\"value\":0.1},\"fill_color\":{\"value\":\"#fc4f30\"},\"line_alpha\":{\"value\":0.1},\"line_color\":{\"value\":\"#fc4f30\"},\"size\":{\"value\":5.477225575051661},\"x\":{\"field\":\"PC2\"},\"y\":{\"field\":\"PC1\"}},\"id\":\"4848\",\"type\":\"Scatter\"},{\"attributes\":{\"fill_alpha\":{\"value\":0.1},\"fill_color\":{\"value\":\"#e5ae38\"},\"line_alpha\":{\"value\":0.1},\"line_color\":{\"value\":\"#e5ae38\"},\"size\":{\"value\":5.477225575051661},\"x\":{\"field\":\"PC2\"},\"y\":{\"field\":\"PC1\"}},\"id\":\"4870\",\"type\":\"Scatter\"},{\"attributes\":{},\"id\":\"4801\",\"type\":\"BasicTicker\"},{\"attributes\":{\"label\":{\"value\":\"2\"},\"renderers\":[{\"id\":\"4872\"}]},\"id\":\"4888\",\"type\":\"LegendItem\"},{\"attributes\":{\"data_source\":{\"id\":\"4866\"},\"glyph\":{\"id\":\"4869\"},\"hover_glyph\":null,\"muted_glyph\":{\"id\":\"4871\"},\"nonselection_glyph\":{\"id\":\"4870\"},\"selection_glyph\":{\"id\":\"4889\"},\"view\":{\"id\":\"4873\"}},\"id\":\"4872\",\"type\":\"GlyphRenderer\"},{\"attributes\":{\"axis\":{\"id\":\"4800\"},\"dimension\":1,\"grid_line_color\":null,\"ticker\":null},\"id\":\"4803\",\"type\":\"Grid\"},{\"attributes\":{},\"id\":\"4818\",\"type\":\"AllLabels\"},{\"attributes\":{},\"id\":\"4821\",\"type\":\"AllLabels\"},{\"attributes\":{\"source\":{\"id\":\"4823\"}},\"id\":\"4830\",\"type\":\"CDSView\"},{\"attributes\":{\"fill_alpha\":{\"value\":0.1},\"fill_color\":{\"value\":\"#6d904f\"},\"line_alpha\":{\"value\":0.1},\"line_color\":{\"value\":\"#6d904f\"},\"size\":{\"value\":5.477225575051661},\"x\":{\"field\":\"PC2\"},\"y\":{\"field\":\"PC1\"}},\"id\":\"4894\",\"type\":\"Scatter\"},{\"attributes\":{\"source\":{\"id\":\"4890\"}},\"id\":\"4897\",\"type\":\"CDSView\"},{\"attributes\":{\"fill_alpha\":{\"value\":0.2},\"fill_color\":{\"value\":\"#30a2da\"},\"line_alpha\":{\"value\":0.2},\"line_color\":{\"value\":\"#30a2da\"},\"size\":{\"value\":5.477225575051661},\"x\":{\"field\":\"PC2\"},\"y\":{\"field\":\"PC1\"}},\"id\":\"4828\",\"type\":\"Scatter\"},{\"attributes\":{},\"id\":\"4886\",\"type\":\"UnionRenderers\"},{\"attributes\":{},\"id\":\"4817\",\"type\":\"BasicTickFormatter\"},{\"attributes\":{},\"id\":\"4862\",\"type\":\"UnionRenderers\"},{\"attributes\":{\"active_multi\":null,\"tools\":[{\"id\":\"4783\"},{\"id\":\"4804\"},{\"id\":\"4805\"},{\"id\":\"4806\"},{\"id\":\"4807\"},{\"id\":\"4808\"}]},\"id\":\"4810\",\"type\":\"Toolbar\"},{\"attributes\":{},\"id\":\"4820\",\"type\":\"BasicTickFormatter\"},{\"attributes\":{\"text_color\":\"black\",\"text_font_size\":\"12pt\"},\"id\":\"4788\",\"type\":\"Title\"},{\"attributes\":{\"source\":{\"id\":\"4844\"}},\"id\":\"4851\",\"type\":\"CDSView\"},{\"attributes\":{\"fill_alpha\":{\"value\":0.2},\"fill_color\":{\"value\":\"#e5ae38\"},\"line_alpha\":{\"value\":0.2},\"line_color\":{\"value\":\"#e5ae38\"},\"size\":{\"value\":5.477225575051661},\"x\":{\"field\":\"PC2\"},\"y\":{\"field\":\"PC1\"}},\"id\":\"4871\",\"type\":\"Scatter\"},{\"attributes\":{},\"id\":\"4804\",\"type\":\"SaveTool\"},{\"attributes\":{},\"id\":\"4794\",\"type\":\"LinearScale\"},{\"attributes\":{\"overlay\":{\"id\":\"4809\"}},\"id\":\"4807\",\"type\":\"BoxZoomTool\"},{\"attributes\":{\"angle\":{\"value\":0.0},\"fill_alpha\":{\"value\":1.0},\"fill_color\":{\"value\":\"#6d904f\"},\"hatch_alpha\":{\"value\":1.0},\"hatch_color\":{\"value\":\"black\"},\"hatch_scale\":{\"value\":12.0},\"hatch_weight\":{\"value\":1.0},\"line_alpha\":{\"value\":1.0},\"line_cap\":{\"value\":\"butt\"},\"line_color\":{\"value\":\"#6d904f\"},\"line_dash\":{\"value\":[]},\"line_dash_offset\":{\"value\":0},\"line_join\":{\"value\":\"bevel\"},\"line_width\":{\"value\":1},\"marker\":{\"value\":\"circle\"},\"size\":{\"value\":5.477225575051661},\"x\":{\"field\":\"PC2\"},\"y\":{\"field\":\"PC1\"}},\"id\":\"4915\",\"type\":\"Scatter\"},{\"attributes\":{},\"id\":\"4805\",\"type\":\"PanTool\"},{\"attributes\":{\"data\":{\"PC1\":{\"__ndarray__\":\"NlsDM/UgIEA=\",\"dtype\":\"float64\",\"order\":\"little\",\"shape\":[1]},\"PC2\":{\"__ndarray__\":\"06jZNR1QDcA=\",\"dtype\":\"float64\",\"order\":\"little\",\"shape\":[1]},\"clusters\":[2]},\"selected\":{\"id\":\"4867\"},\"selection_policy\":{\"id\":\"4886\"}},\"id\":\"4866\",\"type\":\"ColumnDataSource\"},{\"attributes\":{},\"id\":\"4806\",\"type\":\"WheelZoomTool\"},{\"attributes\":{},\"id\":\"4912\",\"type\":\"UnionRenderers\"},{\"attributes\":{\"margin\":[5,5,5,5],\"name\":\"HSpacer09688\",\"sizing_mode\":\"stretch_width\"},\"id\":\"4780\",\"type\":\"Spacer\"},{\"attributes\":{\"fill_color\":{\"value\":\"#fc4f30\"},\"line_color\":{\"value\":\"#fc4f30\"},\"size\":{\"value\":5.477225575051661},\"x\":{\"field\":\"PC2\"},\"y\":{\"field\":\"PC1\"}},\"id\":\"4847\",\"type\":\"Scatter\"},{\"attributes\":{},\"id\":\"4845\",\"type\":\"Selection\"},{\"attributes\":{\"data\":{\"PC1\":{\"__ndarray__\":\"bqwkqqG0079t9NIbFqPWv9dvHwYExuS/LBBGyjjYpL96LI4ck+zTv6qn3+oR0eG/VIqD52Mj1L8tao1gPmbNPwiiwUIHv9i/dIYraveg2L+BQD3kWnzLvzAsPwcDkc+/4Q2a2G5V079RF9jgBrfmP/8IoIi8wtS/58rn/XCl5b+PPjHdQ6TVv1KdcWlkMAZAVC2wmc5W4b9RT6IgOsDevy63oAZe3e0/Cmnj1ppzzj/3kxwNR9rcv3aEBY3W1eC/RB44LbdT1b8p/ZMQzeDDvw==\",\"dtype\":\"float64\",\"order\":\"little\",\"shape\":[26]},\"PC2\":{\"__ndarray__\":\"lY5PI0ahx7+NTb8AQbLOvwIaSEhy68y/REP3Roo69r8k8pI/sJTIv8tb+UWJ1t+/SoRHtfIlv7/16xeRwVz0v8dlra299ue/3v/xE0ayxL83yJ1unQTwv6drtgcaHea/CJl9oToazb8l9/L+cmviPyNjLFf3gcW/Q3mlp79S4b8KsS9mWFn/vzWhINlYvKw/ecnl6Y/f378LW2mnaAfYv5cvROES5QHA4mNGnddA2z8BIJCAKgkBwLDEVT0292Y/2VzvA7WTw78nAZu+ADDKvw==\",\"dtype\":\"float64\",\"order\":\"little\",\"shape\":[26]},\"clusters\":[1,1,1,1,1,1,1,1,1,1,1,1,1,1,1,1,1,1,1,1,1,1,1,1,1,1]},\"selected\":{\"id\":\"4845\"},\"selection_policy\":{\"id\":\"4862\"}},\"id\":\"4844\",\"type\":\"ColumnDataSource\"},{\"attributes\":{\"fill_color\":{\"value\":\"#e5ae38\"},\"line_color\":{\"value\":\"#e5ae38\"},\"size\":{\"value\":5.477225575051661},\"x\":{\"field\":\"PC2\"},\"y\":{\"field\":\"PC1\"}},\"id\":\"4869\",\"type\":\"Scatter\"},{\"attributes\":{\"fill_color\":{\"value\":\"#6d904f\"},\"line_color\":{\"value\":\"#6d904f\"},\"size\":{\"value\":5.477225575051661},\"x\":{\"field\":\"PC2\"},\"y\":{\"field\":\"PC1\"}},\"id\":\"4893\",\"type\":\"Scatter\"},{\"attributes\":{},\"id\":\"4808\",\"type\":\"ResetTool\"},{\"attributes\":{\"angle\":{\"value\":0.0},\"fill_alpha\":{\"value\":1.0},\"fill_color\":{\"value\":\"#e5ae38\"},\"hatch_alpha\":{\"value\":1.0},\"hatch_color\":{\"value\":\"black\"},\"hatch_scale\":{\"value\":12.0},\"hatch_weight\":{\"value\":1.0},\"line_alpha\":{\"value\":1.0},\"line_cap\":{\"value\":\"butt\"},\"line_color\":{\"value\":\"#e5ae38\"},\"line_dash\":{\"value\":[]},\"line_dash_offset\":{\"value\":0},\"line_join\":{\"value\":\"bevel\"},\"line_width\":{\"value\":1},\"marker\":{\"value\":\"circle\"},\"size\":{\"value\":5.477225575051661},\"x\":{\"field\":\"PC2\"},\"y\":{\"field\":\"PC1\"}},\"id\":\"4889\",\"type\":\"Scatter\"},{\"attributes\":{},\"id\":\"4891\",\"type\":\"Selection\"},{\"attributes\":{\"margin\":[5,5,5,5],\"name\":\"HSpacer09689\",\"sizing_mode\":\"stretch_width\"},\"id\":\"5060\",\"type\":\"Spacer\"},{\"attributes\":{\"angle\":{\"value\":0.0},\"fill_alpha\":{\"value\":1.0},\"fill_color\":{\"value\":\"#fc4f30\"},\"hatch_alpha\":{\"value\":1.0},\"hatch_color\":{\"value\":\"black\"},\"hatch_scale\":{\"value\":12.0},\"hatch_weight\":{\"value\":1.0},\"line_alpha\":{\"value\":1.0},\"line_cap\":{\"value\":\"butt\"},\"line_color\":{\"value\":\"#fc4f30\"},\"line_dash\":{\"value\":[]},\"line_dash_offset\":{\"value\":0},\"line_join\":{\"value\":\"bevel\"},\"line_width\":{\"value\":1},\"marker\":{\"value\":\"circle\"},\"size\":{\"value\":5.477225575051661},\"x\":{\"field\":\"PC2\"},\"y\":{\"field\":\"PC1\"}},\"id\":\"4865\",\"type\":\"Scatter\"},{\"attributes\":{\"label\":{\"value\":\"3\"},\"renderers\":[{\"id\":\"4896\"}]},\"id\":\"4914\",\"type\":\"LegendItem\"},{\"attributes\":{\"data\":{\"PC1\":{\"__ndarray__\":\"CxSPBW+dFEA=\",\"dtype\":\"float64\",\"order\":\"little\",\"shape\":[1]},\"PC2\":{\"__ndarray__\":\"Zm7kRL2DG0A=\",\"dtype\":\"float64\",\"order\":\"little\",\"shape\":[1]},\"clusters\":[3]},\"selected\":{\"id\":\"4891\"},\"selection_policy\":{\"id\":\"4912\"}},\"id\":\"4890\",\"type\":\"ColumnDataSource\"},{\"attributes\":{\"label\":{\"value\":\"0\"},\"renderers\":[{\"id\":\"4829\"}]},\"id\":\"4842\",\"type\":\"LegendItem\"},{\"attributes\":{\"data_source\":{\"id\":\"4844\"},\"glyph\":{\"id\":\"4847\"},\"hover_glyph\":null,\"muted_glyph\":{\"id\":\"4849\"},\"nonselection_glyph\":{\"id\":\"4848\"},\"selection_glyph\":{\"id\":\"4865\"},\"view\":{\"id\":\"4851\"}},\"id\":\"4850\",\"type\":\"GlyphRenderer\"},{\"attributes\":{\"fill_alpha\":{\"value\":0.2},\"fill_color\":{\"value\":\"#6d904f\"},\"line_alpha\":{\"value\":0.2},\"line_color\":{\"value\":\"#6d904f\"},\"size\":{\"value\":5.477225575051661},\"x\":{\"field\":\"PC2\"},\"y\":{\"field\":\"PC1\"}},\"id\":\"4895\",\"type\":\"Scatter\"},{\"attributes\":{\"angle\":{\"value\":0.0},\"fill_alpha\":{\"value\":1.0},\"fill_color\":{\"value\":\"#30a2da\"},\"hatch_alpha\":{\"value\":1.0},\"hatch_color\":{\"value\":\"black\"},\"hatch_scale\":{\"value\":12.0},\"hatch_weight\":{\"value\":1.0},\"line_alpha\":{\"value\":1.0},\"line_cap\":{\"value\":\"butt\"},\"line_color\":{\"value\":\"#30a2da\"},\"line_dash\":{\"value\":[]},\"line_dash_offset\":{\"value\":0},\"line_join\":{\"value\":\"bevel\"},\"line_width\":{\"value\":1},\"marker\":{\"value\":\"circle\"},\"size\":{\"value\":5.477225575051661},\"x\":{\"field\":\"PC2\"},\"y\":{\"field\":\"PC1\"}},\"id\":\"4843\",\"type\":\"Scatter\"},{\"attributes\":{\"callback\":null,\"renderers\":[{\"id\":\"4829\"},{\"id\":\"4850\"},{\"id\":\"4872\"},{\"id\":\"4896\"}],\"tags\":[\"hv_created\"],\"tooltips\":[[\"clusters\",\"@{clusters}\"],[\"PC2\",\"@{PC2}\"],[\"PC1\",\"@{PC1}\"]]},\"id\":\"4783\",\"type\":\"HoverTool\"},{\"attributes\":{\"data_source\":{\"id\":\"4890\"},\"glyph\":{\"id\":\"4893\"},\"hover_glyph\":null,\"muted_glyph\":{\"id\":\"4895\"},\"nonselection_glyph\":{\"id\":\"4894\"},\"selection_glyph\":{\"id\":\"4915\"},\"view\":{\"id\":\"4897\"}},\"id\":\"4896\",\"type\":\"GlyphRenderer\"},{\"attributes\":{\"axis\":{\"id\":\"4796\"},\"grid_line_color\":null,\"ticker\":null},\"id\":\"4799\",\"type\":\"Grid\"},{\"attributes\":{},\"id\":\"4792\",\"type\":\"LinearScale\"},{\"attributes\":{},\"id\":\"4824\",\"type\":\"Selection\"},{\"attributes\":{},\"id\":\"4867\",\"type\":\"Selection\"},{\"attributes\":{\"end\":9.019304422635729,\"reset_end\":9.019304422635729,\"reset_start\":-2.439899985361156,\"start\":-2.439899985361156,\"tags\":[[[\"PC1\",\"PC1\",null]]]},\"id\":\"4782\",\"type\":\"Range1d\"},{\"attributes\":{\"click_policy\":\"mute\",\"items\":[{\"id\":\"4842\"},{\"id\":\"4864\"},{\"id\":\"4888\"},{\"id\":\"4914\"}],\"location\":[0,0],\"title\":\"clusters\"},\"id\":\"4841\",\"type\":\"Legend\"},{\"attributes\":{\"end\":7.330484687837947,\"reset_end\":7.330484687837947,\"reset_start\":-4.115951210305181,\"start\":-4.115951210305181,\"tags\":[[[\"PC2\",\"PC2\",null]]]},\"id\":\"4781\",\"type\":\"Range1d\"},{\"attributes\":{\"axis_label\":\"PC2\",\"formatter\":{\"id\":\"4817\"},\"major_label_policy\":{\"id\":\"4818\"},\"ticker\":{\"id\":\"4797\"}},\"id\":\"4796\",\"type\":\"LinearAxis\"},{\"attributes\":{\"below\":[{\"id\":\"4796\"}],\"center\":[{\"id\":\"4799\"},{\"id\":\"4803\"}],\"height\":300,\"left\":[{\"id\":\"4800\"}],\"margin\":[5,5,5,5],\"min_border_bottom\":10,\"min_border_left\":10,\"min_border_right\":10,\"min_border_top\":10,\"renderers\":[{\"id\":\"4829\"},{\"id\":\"4850\"},{\"id\":\"4872\"},{\"id\":\"4896\"}],\"right\":[{\"id\":\"4841\"}],\"sizing_mode\":\"fixed\",\"title\":{\"id\":\"4788\"},\"toolbar\":{\"id\":\"4810\"},\"width\":700,\"x_range\":{\"id\":\"4781\"},\"x_scale\":{\"id\":\"4792\"},\"y_range\":{\"id\":\"4782\"},\"y_scale\":{\"id\":\"4794\"}},\"id\":\"4787\",\"subtype\":\"Figure\",\"type\":\"Plot\"},{\"attributes\":{\"data\":{\"PC1\":{\"__ndarray__\":\"/CFfAqJS6r9pNHh6h7fmvz3TxgFswve/LoVYgSb+6L91rkqs4qnqv2T4dSwEneS/guB0A+rL678Vl3rkhN/Tv4KASmKrUPC/MjoW3zf3478Spwrwyl7qvyiGtQD39OW/15O8accf478=\",\"dtype\":\"float64\",\"order\":\"little\",\"shape\":[13]},\"PC2\":{\"__ndarray__\":\"JbMyHIal6j/PDmZp0BHdP9U4AzXbJQBAyUiOPxIb9j+QZWj9Wp3gP8nPl3Q4W+c/Oh0TzHj22j8IG2f7pV0HQMr3awDlPuC/uZfNBeaV5j9aoxsuUSbqPzJHCgTjW98/OfAreyWlxD8=\",\"dtype\":\"float64\",\"order\":\"little\",\"shape\":[13]},\"clusters\":[0,0,0,0,0,0,0,0,0,0,0,0,0]},\"selected\":{\"id\":\"4824\"},\"selection_policy\":{\"id\":\"4839\"}},\"id\":\"4823\",\"type\":\"ColumnDataSource\"},{\"attributes\":{\"fill_alpha\":{\"value\":0.1},\"fill_color\":{\"value\":\"#30a2da\"},\"line_alpha\":{\"value\":0.1},\"line_color\":{\"value\":\"#30a2da\"},\"size\":{\"value\":5.477225575051661},\"x\":{\"field\":\"PC2\"},\"y\":{\"field\":\"PC1\"}},\"id\":\"4827\",\"type\":\"Scatter\"},{\"attributes\":{\"children\":[{\"id\":\"4780\"},{\"id\":\"4787\"},{\"id\":\"5060\"}],\"margin\":[0,0,0,0],\"name\":\"Row09684\",\"tags\":[\"embedded\"]},\"id\":\"4779\",\"type\":\"Row\"},{\"attributes\":{},\"id\":\"4797\",\"type\":\"BasicTicker\"},{\"attributes\":{\"fill_color\":{\"value\":\"#30a2da\"},\"line_color\":{\"value\":\"#30a2da\"},\"size\":{\"value\":5.477225575051661},\"x\":{\"field\":\"PC2\"},\"y\":{\"field\":\"PC1\"}},\"id\":\"4826\",\"type\":\"Scatter\"},{\"attributes\":{\"fill_alpha\":{\"value\":0.2},\"fill_color\":{\"value\":\"#fc4f30\"},\"line_alpha\":{\"value\":0.2},\"line_color\":{\"value\":\"#fc4f30\"},\"size\":{\"value\":5.477225575051661},\"x\":{\"field\":\"PC2\"},\"y\":{\"field\":\"PC1\"}},\"id\":\"4849\",\"type\":\"Scatter\"},{\"attributes\":{\"source\":{\"id\":\"4866\"}},\"id\":\"4873\",\"type\":\"CDSView\"},{\"attributes\":{\"bottom_units\":\"screen\",\"fill_alpha\":0.5,\"fill_color\":\"lightgrey\",\"left_units\":\"screen\",\"level\":\"overlay\",\"line_alpha\":1.0,\"line_color\":\"black\",\"line_dash\":[4,4],\"line_width\":2,\"right_units\":\"screen\",\"syncable\":false,\"top_units\":\"screen\"},\"id\":\"4809\",\"type\":\"BoxAnnotation\"},{\"attributes\":{\"data_source\":{\"id\":\"4823\"},\"glyph\":{\"id\":\"4826\"},\"hover_glyph\":null,\"muted_glyph\":{\"id\":\"4828\"},\"nonselection_glyph\":{\"id\":\"4827\"},\"selection_glyph\":{\"id\":\"4843\"},\"view\":{\"id\":\"4830\"}},\"id\":\"4829\",\"type\":\"GlyphRenderer\"},{\"attributes\":{\"axis_label\":\"PC1\",\"formatter\":{\"id\":\"4820\"},\"major_label_policy\":{\"id\":\"4821\"},\"ticker\":{\"id\":\"4801\"}},\"id\":\"4800\",\"type\":\"LinearAxis\"},{\"attributes\":{\"label\":{\"value\":\"1\"},\"renderers\":[{\"id\":\"4850\"}]},\"id\":\"4864\",\"type\":\"LegendItem\"},{\"attributes\":{},\"id\":\"4839\",\"type\":\"UnionRenderers\"}],\"root_ids\":[\"4779\"]},\"title\":\"Bokeh Application\",\"version\":\"2.3.3\"}};\n    var render_items = [{\"docid\":\"1aa80760-2505-49ae-a233-2977717aae32\",\"root_ids\":[\"4779\"],\"roots\":{\"4779\":\"de8fb024-ddfb-4adb-b62c-351fc901dc7b\"}}];\n    root.Bokeh.embed.embed_items_notebook(docs_json, render_items);\n  }\n  if (root.Bokeh !== undefined && root.Bokeh.Panel !== undefined) {\n    embed_document(root);\n  } else {\n    var attempts = 0;\n    var timer = setInterval(function(root) {\n      if (root.Bokeh !== undefined && root.Bokeh.Panel !== undefined) {\n        clearInterval(timer);\n        embed_document(root);\n      } else if (document.readyState == \"complete\") {\n        attempts++;\n        if (attempts > 200) {\n          clearInterval(timer);\n          console.log(\"Bokeh: ERROR: Unable to run BokehJS code because BokehJS library is missing\");\n        }\n      }\n    }, 25, root)\n  }\n})(window);</script>",
      "text/plain": ":NdOverlay   [clusters]\n   :Scatter   [PC2]   (PC1)"
     },
     "execution_count": 115,
     "metadata": {
      "application/vnd.holoviews_exec.v0+json": {
       "id": "4779"
      }
     },
     "output_type": "execute_result"
    }
   ],
   "source": [
    "# Create a scatter plot using hvPlot of the clusters found using PCA \n",
    "market_data_pca_df.hvplot.scatter(\n",
    "    x='PC2',\n",
    "    y='PC1',\n",
    "    by='clusters'\n",
    ")"
   ]
  },
  {
   "cell_type": "markdown",
   "metadata": {},
   "source": [
    "---"
   ]
  },
  {
   "cell_type": "markdown",
   "metadata": {},
   "source": [
    "### Visualize and Compare the Results\n",
    "\n",
    "In this section, you will visually analyze the cluster analysis results by contrasting the outcome with and without using the optimization techniques.\n",
    "\n",
    "1. Create a composite plot using hvPlot and the plus (`+`) operator to contrast the Elbow Curve that you created to find the best value for `k` with the original and the PCA data.\n",
    "\n",
    "2. Create a composite plot using hvPlot and the plus (`+`) operator to contrast the cryptocurrencies clusters using the original and the PCA data.\n",
    "\n",
    "3. Answer the following question: After visually analyzing the cluster analysis results, what is the impact of using fewer features to cluster the data using K-Means?\n",
    "\n",
    "> **Rewind:** Back in Lesson 3 of Module 6, you learned how to create composite plots. You can look at that lesson to review how to make these plots; also, you can check [the hvPlot documentation](https://holoviz.org/tutorial/Composing_Plots.html)."
   ]
  },
  {
   "cell_type": "code",
   "execution_count": 76,
   "metadata": {},
   "outputs": [],
   "source": [
    "# Composite plot to contrast the Elbow curves\n",
    "# YOUR CODE HERE!"
   ]
  },
  {
   "cell_type": "code",
   "execution_count": 77,
   "metadata": {},
   "outputs": [],
   "source": [
    "# Compoosite plot to contrast the clusters\n",
    "# YOUR CODE HERE!"
   ]
  },
  {
   "cell_type": "markdown",
   "metadata": {},
   "source": [
    "Answer the following question: After visually analyzing the cluster analysis results, what is the impact of using fewer features to cluster the data using K-Means?\n",
    "\n",
    "  * **Question:** After visually analyzing the cluster analysis results, what is the impact of using fewer features to cluster the data using K-Means?\n",
    "\n",
    "  * **Answer:** YOUR ANSWER HERE!"
   ]
  },
  {
   "cell_type": "code",
   "execution_count": null,
   "metadata": {},
   "outputs": [],
   "source": []
  }
 ],
 "metadata": {
  "kernelspec": {
   "display_name": "Python 3.7.10 64-bit ('dev': conda)",
   "name": "dev"
  },
  "language_info": {
   "codemirror_mode": {
    "name": "ipython",
    "version": 3
   },
   "file_extension": ".py",
   "mimetype": "text/x-python",
   "name": "python",
   "nbconvert_exporter": "python",
   "pygments_lexer": "ipython3",
   "version": "3.7.10"
  }
 },
 "nbformat": 4,
 "nbformat_minor": 4
}